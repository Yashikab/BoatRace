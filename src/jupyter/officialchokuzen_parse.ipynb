{
 "cells": [
  {
   "cell_type": "markdown",
   "metadata": {},
   "source": [
    "# 浜名湖4月8日 3R 直前情報"
   ]
  },
  {
   "cell_type": "code",
   "execution_count": 1,
   "metadata": {},
   "outputs": [],
   "source": [
    "sample_html = \\\n",
    "'https://boatrace.jp/owpc/pc/race/beforeinfo?rno=3&jcd=06&hd=20200408'"
   ]
  },
  {
   "cell_type": "code",
   "execution_count": 2,
   "metadata": {},
   "outputs": [],
   "source": [
    "from urllib.request import urlopen\n",
    "from bs4 import BeautifulSoup\n",
    "import re"
   ]
  },
  {
   "cell_type": "markdown",
   "metadata": {},
   "source": [
    "## htmlをsoupに取り込み，直前情報テーブルから各選手のリストを抜く"
   ]
  },
  {
   "cell_type": "code",
   "execution_count": 7,
   "metadata": {},
   "outputs": [],
   "source": [
    "target_url = sample_html\n",
    "__html_content = urlopen(target_url).read()\n",
    "__soup = BeautifulSoup(__html_content, 'html.parser')\n",
    "__target_table_selector = \\\n",
    "    'body > main > div > div > div > div.contentsFrame1_inner > '\\\n",
    "    'div.grid.is-type3.h-clear > div:nth-child(1) > div.table1 > table'\n",
    "__target_table_html = __soup.select_one(__target_table_selector)\n",
    "player_info_html_list = __target_table_html.select('tbody')\n",
    "assert len(player_info_html_list) == 6, \\\n",
    "    f\"lengh is not 6:{len(player_info_html_list)}\"\n",
    "row = 1\n",
    "__player_html = player_info_html_list[row - 1]\n",
    "# 選手情報は1番目のtr\n",
    "__player_chokuzen = __player_html.select_one(\"tr\")\n",
    "__player_chokuzen_list = __player_chokuzen.select(\"td\")\n",
    "# 名前の欄は3番目\n",
    "player_name_list = __player_chokuzen_list[2].text\n",
    "# 体重は4番目\n",
    "weight = __player_chokuzen_list[3]"
   ]
  },
  {
   "cell_type": "code",
   "execution_count": 9,
   "metadata": {},
   "outputs": [
    {
     "data": {
      "text/plain": [
       "'57.0kg'"
      ]
     },
     "execution_count": 9,
     "metadata": {},
     "output_type": "execute_result"
    }
   ],
   "source": [
    "weights.text"
   ]
  },
  {
   "cell_type": "code",
   "execution_count": 5,
   "metadata": {},
   "outputs": [
    {
     "data": {
      "text/plain": [
       "[<td class=\"is-boatColor1 is-fs14\" rowspan=\"4\">1</td>,\n",
       " <td rowspan=\"4\"><a href=\"/owpc/pc/data/racersearch/profile?toban=4231\"><img alt=\"\" height=\"95\" src=\"/racerphoto/4231.jpg\" width=\"67\"/></a></td>,\n",
       " <td class=\"is-fs18 is-fBold\" rowspan=\"4\"><a href=\"/owpc/pc/data/racersearch/profile?toban=4231\">鈴木　　裕隆</a></td>,\n",
       " <td rowspan=\"2\">57.0kg</td>,\n",
       " <td rowspan=\"4\">6.60</td>,\n",
       " <td rowspan=\"4\">-0.5</td>,\n",
       " <td rowspan=\"4\"> </td>,\n",
       " <td class=\"is-p5-5\" rowspan=\"4\">\n",
       " <ul class=\"labelGroup1\">\n",
       " </ul><!-- /.labelGroup1 -->\n",
       " </td>,\n",
       " <td>R</td>,\n",
       " <td class=\"\"> </td>]"
      ]
     },
     "execution_count": 5,
     "metadata": {},
     "output_type": "execute_result"
    }
   ],
   "source": [
    "__player_chokuzen_list"
   ]
  },
  {
   "cell_type": "code",
   "execution_count": null,
   "metadata": {},
   "outputs": [],
   "source": [
    "__"
   ]
  }
 ],
 "metadata": {
  "kernelspec": {
   "display_name": "Python 3",
   "language": "python",
   "name": "python3"
  },
  "language_info": {
   "codemirror_mode": {
    "name": "ipython",
    "version": 3
   },
   "file_extension": ".py",
   "mimetype": "text/x-python",
   "name": "python",
   "nbconvert_exporter": "python",
   "pygments_lexer": "ipython3",
   "version": "3.7.5"
  }
 },
 "nbformat": 4,
 "nbformat_minor": 4
}
