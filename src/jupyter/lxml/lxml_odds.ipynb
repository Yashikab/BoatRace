{
 "cells": [
  {
   "cell_type": "code",
   "execution_count": 4,
   "metadata": {},
   "outputs": [],
   "source": [
    "import lxml.html as lxml"
   ]
  },
  {
   "cell_type": "code",
   "execution_count": 37,
   "metadata": {},
   "outputs": [],
   "source": [
    "with open(\"odds_3tan_2020040869.html\", \"r\") as f:\n",
    "    html_source = f.read()"
   ]
  },
  {
   "cell_type": "code",
   "execution_count": 38,
   "metadata": {},
   "outputs": [],
   "source": [
    "lx_content = lxml.fromstring(html_source)"
   ]
  },
  {
   "cell_type": "code",
   "execution_count": 39,
   "metadata": {},
   "outputs": [],
   "source": [
    "table_xpath = \"/html/body/main/div/div/div/div[2]/div[6]/table/tbody/tr/td[contains(@class, 'oddsPoint')]\""
   ]
  },
  {
   "cell_type": "code",
   "execution_count": 40,
   "metadata": {},
   "outputs": [],
   "source": [
    "pay_list = lx_content.xpath(\"/\".join([table_xpath]))"
   ]
  },
  {
   "cell_type": "code",
   "execution_count": 41,
   "metadata": {},
   "outputs": [
    {
     "data": {
      "text/plain": [
       "[6.5,\n",
       " 34.7,\n",
       " 69.2,\n",
       " 1124.0,\n",
       " 234.9,\n",
       " 34.2,\n",
       " 126.6,\n",
       " 368.2,\n",
       " 527.1,\n",
       " 1591.0,\n",
       " 296.9,\n",
       " 50.8,\n",
       " 15.5,\n",
       " 66.5,\n",
       " 138.4,\n",
       " 1721.0,\n",
       " 1297.0,\n",
       " 371.5,\n",
       " 5.4,\n",
       " 28.8,\n",
       " 64.1,\n",
       " 1454.0,\n",
       " 233.6,\n",
       " 86.4,\n",
       " 10.6,\n",
       " 95.8,\n",
       " 111.2,\n",
       " 1240.0,\n",
       " 413.4,\n",
       " 74.1,\n",
       " 182.9,\n",
       " 1317.0,\n",
       " 1124.0,\n",
       " 3373.0,\n",
       " 573.7,\n",
       " 162.4,\n",
       " 37.0,\n",
       " 345.6,\n",
       " 374.8,\n",
       " 2162.0,\n",
       " 2555.0,\n",
       " 746.3,\n",
       " 11.2,\n",
       " 161.2,\n",
       " 196.5,\n",
       " 1653.0,\n",
       " 577.6,\n",
       " 251.0,\n",
       " 403.5,\n",
       " 1258.0,\n",
       " 1004.0,\n",
       " 1833.0,\n",
       " 691.2,\n",
       " 145.9,\n",
       " 517.4,\n",
       " 2480.0,\n",
       " 1621.0,\n",
       " 3666.0,\n",
       " 669.3,\n",
       " 196.5,\n",
       " 585.6,\n",
       " 2056.0,\n",
       " 1621.0,\n",
       " 2162.0,\n",
       " 2555.0,\n",
       " 1028.0,\n",
       " 365.0,\n",
       " 1621.0,\n",
       " 1338.0,\n",
       " 2811.0,\n",
       " 869.4,\n",
       " 374.8,\n",
       " 43.5,\n",
       " 274.7,\n",
       " 325.6,\n",
       " 2480.0,\n",
       " 2279.0,\n",
       " 818.8,\n",
       " 66.1,\n",
       " 533.7,\n",
       " 419.5,\n",
       " 2162.0,\n",
       " 2480.0,\n",
       " 1222.0,\n",
       " 446.2,\n",
       " 1916.0,\n",
       " 1277.0,\n",
       " 3833.0,\n",
       " 3373.0,\n",
       " 1686.0,\n",
       " 52.2,\n",
       " 394.0,\n",
       " 365.0,\n",
       " 2555.0,\n",
       " 2555.0,\n",
       " 1454.0,\n",
       " 7.9,\n",
       " 82.5,\n",
       " 130.1,\n",
       " 2162.0,\n",
       " 395.9,\n",
       " 185.7,\n",
       " 11.2,\n",
       " 171.0,\n",
       " 181.7,\n",
       " 2635.0,\n",
       " 620.1,\n",
       " 260.2,\n",
       " 221.9,\n",
       " 969.3,\n",
       " 1081.0,\n",
       " 4960.0,\n",
       " 878.5,\n",
       " 419.5,\n",
       " 24.0,\n",
       " 310.0,\n",
       " 299.0,\n",
       " 3514.0,\n",
       " 2162.0,\n",
       " 810.9]"
      ]
     },
     "execution_count": 41,
     "metadata": {},
     "output_type": "execute_result"
    }
   ],
   "source": [
    "import numpy as np\n",
    "list(map(lambda x: float(x.text), pay_list))"
   ]
  },
  {
   "cell_type": "code",
   "execution_count": null,
   "metadata": {},
   "outputs": [],
   "source": []
  },
  {
   "cell_type": "code",
   "execution_count": null,
   "metadata": {},
   "outputs": [],
   "source": []
  },
  {
   "cell_type": "code",
   "execution_count": 17,
   "metadata": {},
   "outputs": [
    {
     "ename": "NameError",
     "evalue": "name 'html' is not defined",
     "output_type": "error",
     "traceback": [
      "\u001b[0;31m---------------------------------------------------------------------------\u001b[0m",
      "\u001b[0;31mNameError\u001b[0m                                 Traceback (most recent call last)",
      "\u001b[0;32m<ipython-input-17-5260c61d0a9e>\u001b[0m in \u001b[0;36m<module>\u001b[0;34m\u001b[0m\n\u001b[0;32m----> 1\u001b[0;31m \u001b[0mhtml\u001b[0m\u001b[0;34m/\u001b[0m\u001b[0mbody\u001b[0m\u001b[0;34m/\u001b[0m\u001b[0mmain\u001b[0m\u001b[0;34m/\u001b[0m\u001b[0mdiv\u001b[0m\u001b[0;34m/\u001b[0m\u001b[0mdiv\u001b[0m\u001b[0;34m/\u001b[0m\u001b[0mdiv\u001b[0m\u001b[0;34m/\u001b[0m\u001b[0mdiv\u001b[0m\u001b[0;34m[\u001b[0m\u001b[0;36m2\u001b[0m\u001b[0;34m]\u001b[0m\u001b[0;34m/\u001b[0m\u001b[0mdiv\u001b[0m\u001b[0;34m[\u001b[0m\u001b[0;36m6\u001b[0m\u001b[0;34m]\u001b[0m\u001b[0;34m/\u001b[0m\u001b[0mtable\u001b[0m\u001b[0;34m/\u001b[0m\u001b[0mtbody\u001b[0m\u001b[0;34m/\u001b[0m\u001b[0mtr\u001b[0m\u001b[0;34m[\u001b[0m\u001b[0;36m2\u001b[0m\u001b[0;34m]\u001b[0m\u001b[0;34m/\u001b[0m\u001b[0mtd\u001b[0m\u001b[0;34m[\u001b[0m\u001b[0;36m12\u001b[0m\u001b[0;34m]\u001b[0m\u001b[0;34m(\u001b[0m\u001b[0;34m)\u001b[0m\u001b[0;34m\u001b[0m\u001b[0;34m\u001b[0m\u001b[0m\n\u001b[0m",
      "\u001b[0;31mNameError\u001b[0m: name 'html' is not defined"
     ]
    }
   ],
   "source": [
    "/html/body/main/div/div/div/div[2]/div[6]/table/tbody/tr[2]/td[12]"
   ]
  },
  {
   "cell_type": "code",
   "execution_count": null,
   "metadata": {},
   "outputs": [],
   "source": []
  }
 ],
 "metadata": {
  "kernelspec": {
   "display_name": "Python 3",
   "language": "python",
   "name": "python3"
  },
  "language_info": {
   "codemirror_mode": {
    "name": "ipython",
    "version": 3
   },
   "file_extension": ".py",
   "mimetype": "text/x-python",
   "name": "python",
   "nbconvert_exporter": "python",
   "pygments_lexer": "ipython3",
   "version": "3.7.5"
  }
 },
 "nbformat": 4,
 "nbformat_minor": 4
}
