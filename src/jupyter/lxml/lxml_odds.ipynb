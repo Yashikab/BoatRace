{
 "cells": [
  {
   "cell_type": "code",
   "execution_count": 1,
   "metadata": {},
   "outputs": [],
   "source": [
    "import lxml.html as lxml"
   ]
  },
  {
   "cell_type": "code",
   "execution_count": 2,
   "metadata": {},
   "outputs": [],
   "source": [
    "with open(\"odds_1tan_2020040869.html\", \"r\") as f:\n",
    "    html_source = f.read()"
   ]
  },
  {
   "cell_type": "code",
   "execution_count": 3,
   "metadata": {},
   "outputs": [],
   "source": [
    "lx_content = lxml.fromstring(html_source)"
   ]
  },
  {
   "cell_type": "code",
   "execution_count": 4,
   "metadata": {},
   "outputs": [],
   "source": [
    "table_xpath = \"/html/body/main/div/div/div/div[2]/div[5]/div[1]/div[2]/table/tbody/tr/td[contains(@class, 'oddsPoint')]\""
   ]
  },
  {
   "cell_type": "code",
   "execution_count": 5,
   "metadata": {},
   "outputs": [],
   "source": [
    "pay_list = lx_content.xpath(\"/\".join([table_xpath]))"
   ]
  },
  {
   "cell_type": "code",
   "execution_count": 7,
   "metadata": {},
   "outputs": [
    {
     "data": {
      "text/plain": [
       "['1.0', '6.1', '12.2', '54.9', '54.9', '9.1']"
      ]
     },
     "execution_count": 7,
     "metadata": {},
     "output_type": "execute_result"
    }
   ],
   "source": [
    "list(map(lambda x: x.text, pay_list))"
   ]
  },
  {
   "cell_type": "code",
   "execution_count": 14,
   "metadata": {},
   "outputs": [],
   "source": [
    "renfuku_key_list.sort()"
   ]
  },
  {
   "cell_type": "code",
   "execution_count": 15,
   "metadata": {},
   "outputs": [
    {
     "data": {
      "text/plain": [
       "['1-2',\n",
       " '1-3',\n",
       " '1-4',\n",
       " '1-5',\n",
       " '1-6',\n",
       " '2-3',\n",
       " '2-4',\n",
       " '2-5',\n",
       " '2-6',\n",
       " '3-4',\n",
       " '3-5',\n",
       " '3-6',\n",
       " '4-5',\n",
       " '4-6',\n",
       " '5-6']"
      ]
     },
     "execution_count": 15,
     "metadata": {},
     "output_type": "execute_result"
    }
   ],
   "source": [
    "renfuku_key_list"
   ]
  },
  {
   "cell_type": "code",
   "execution_count": 39,
   "metadata": {},
   "outputs": [],
   "source": [
    "odds = list(map(lambda x: float(x.text), pay_list))"
   ]
  },
  {
   "cell_type": "code",
   "execution_count": 40,
   "metadata": {},
   "outputs": [],
   "source": [
    "/html/body/main/div/div/div/div[2]/div[5]/div[1]/div[2]/table/tbody[1]/tr/td[3]"
   ]
  },
  {
   "cell_type": "code",
   "execution_count": 41,
   "metadata": {},
   "outputs": [
    {
     "data": {
      "text/plain": [
       "[228.9,\n",
       " 55.2,\n",
       " 84.3,\n",
       " 16.5,\n",
       " 267.1,\n",
       " 178.0,\n",
       " 94.2,\n",
       " 200.3,\n",
       " 200.3,\n",
       " 69.6,\n",
       " 40.0,\n",
       " 4.8,\n",
       " 84.3,\n",
       " 15.2,\n",
       " 160.2,\n",
       " 76.3,\n",
       " 2.3,\n",
       " 11.4,\n",
       " 72.8,\n",
       " 2.9]"
      ]
     },
     "execution_count": 41,
     "metadata": {},
     "output_type": "execute_result"
    }
   ],
   "source": [
    "odds"
   ]
  },
  {
   "cell_type": "code",
   "execution_count": 42,
   "metadata": {},
   "outputs": [
    {
     "ename": "NameError",
     "evalue": "name 'html' is not defined",
     "output_type": "error",
     "traceback": [
      "\u001b[0;31m---------------------------------------------------------------------------\u001b[0m",
      "\u001b[0;31mNameError\u001b[0m                                 Traceback (most recent call last)",
      "\u001b[0;32m<ipython-input-42-5260c61d0a9e>\u001b[0m in \u001b[0;36m<module>\u001b[0;34m\u001b[0m\n\u001b[0;32m----> 1\u001b[0;31m \u001b[0mhtml\u001b[0m\u001b[0;34m/\u001b[0m\u001b[0mbody\u001b[0m\u001b[0;34m/\u001b[0m\u001b[0mmain\u001b[0m\u001b[0;34m/\u001b[0m\u001b[0mdiv\u001b[0m\u001b[0;34m/\u001b[0m\u001b[0mdiv\u001b[0m\u001b[0;34m/\u001b[0m\u001b[0mdiv\u001b[0m\u001b[0;34m/\u001b[0m\u001b[0mdiv\u001b[0m\u001b[0;34m[\u001b[0m\u001b[0;36m2\u001b[0m\u001b[0;34m]\u001b[0m\u001b[0;34m/\u001b[0m\u001b[0mdiv\u001b[0m\u001b[0;34m[\u001b[0m\u001b[0;36m6\u001b[0m\u001b[0;34m]\u001b[0m\u001b[0;34m/\u001b[0m\u001b[0mtable\u001b[0m\u001b[0;34m/\u001b[0m\u001b[0mtbody\u001b[0m\u001b[0;34m/\u001b[0m\u001b[0mtr\u001b[0m\u001b[0;34m[\u001b[0m\u001b[0;36m2\u001b[0m\u001b[0;34m]\u001b[0m\u001b[0;34m/\u001b[0m\u001b[0mtd\u001b[0m\u001b[0;34m[\u001b[0m\u001b[0;36m12\u001b[0m\u001b[0;34m]\u001b[0m\u001b[0;34m(\u001b[0m\u001b[0;34m)\u001b[0m\u001b[0;34m\u001b[0m\u001b[0;34m\u001b[0m\u001b[0m\n\u001b[0m",
      "\u001b[0;31mNameError\u001b[0m: name 'html' is not defined"
     ]
    }
   ],
   "source": [
    "/html/body/main/div/div/div/div[2]/div[6]/table/tbody/tr[2]/td[12]"
   ]
  },
  {
   "cell_type": "code",
   "execution_count": 43,
   "metadata": {},
   "outputs": [],
   "source": [
    "content_rv_dict = {}\n",
    "for keyname in renfuku_key_list:\n",
    "    content_rv_dict[keyname] = odds.pop(0)"
   ]
  },
  {
   "cell_type": "code",
   "execution_count": 46,
   "metadata": {},
   "outputs": [],
   "source": [
    "# キーを並び替え\n",
    "content_dict = {}\n",
    "for key, value in sorted(content_rv_dict.items(), key=lambda x:x[0]):\n",
    "    content_dict[key] = value"
   ]
  },
  {
   "cell_type": "code",
   "execution_count": 47,
   "metadata": {},
   "outputs": [
    {
     "data": {
      "text/plain": [
       "{'1-2-3': 2.9,\n",
       " '1-2-4': 72.8,\n",
       " '1-2-5': 76.3,\n",
       " '1-2-6': 69.6,\n",
       " '1-3-4': 11.4,\n",
       " '1-3-5': 160.2,\n",
       " '1-3-6': 200.3,\n",
       " '1-4-5': 84.3,\n",
       " '1-4-6': 94.2,\n",
       " '1-5-6': 16.5,\n",
       " '2-3-4': 2.3,\n",
       " '2-3-5': 15.2,\n",
       " '2-3-6': 200.3,\n",
       " '2-4-5': 4.8,\n",
       " '2-4-6': 178.0,\n",
       " '2-5-6': 84.3,\n",
       " '3-4-5': 40.0,\n",
       " '3-4-6': 267.1,\n",
       " '3-5-6': 55.2,\n",
       " '4-5-6': 228.9}"
      ]
     },
     "execution_count": 47,
     "metadata": {},
     "output_type": "execute_result"
    }
   ],
   "source": [
    "content_dict"
   ]
  },
  {
   "cell_type": "code",
   "execution_count": 48,
   "metadata": {},
   "outputs": [
    {
     "data": {
      "text/plain": [
       "{'4-5-6': 228.9,\n",
       " '3-5-6': 55.2,\n",
       " '2-5-6': 84.3,\n",
       " '1-5-6': 16.5,\n",
       " '3-4-6': 267.1,\n",
       " '2-4-6': 178.0,\n",
       " '1-4-6': 94.2,\n",
       " '2-3-6': 200.3,\n",
       " '1-3-6': 200.3,\n",
       " '1-2-6': 69.6,\n",
       " '3-4-5': 40.0,\n",
       " '2-4-5': 4.8,\n",
       " '1-4-5': 84.3,\n",
       " '2-3-5': 15.2,\n",
       " '1-3-5': 160.2,\n",
       " '1-2-5': 76.3,\n",
       " '2-3-4': 2.3,\n",
       " '1-3-4': 11.4,\n",
       " '1-2-4': 72.8,\n",
       " '1-2-3': 2.9}"
      ]
     },
     "execution_count": 48,
     "metadata": {},
     "output_type": "execute_result"
    }
   ],
   "source": [
    "content_rv_dict"
   ]
  },
  {
   "cell_type": "code",
   "execution_count": null,
   "metadata": {},
   "outputs": [],
   "source": []
  }
 ],
 "metadata": {
  "kernelspec": {
   "display_name": "Python 3",
   "language": "python",
   "name": "python3"
  },
  "language_info": {
   "codemirror_mode": {
    "name": "ipython",
    "version": 3
   },
   "file_extension": ".py",
   "mimetype": "text/x-python",
   "name": "python",
   "nbconvert_exporter": "python",
   "pygments_lexer": "ipython3",
   "version": "3.7.5"
  }
 },
 "nbformat": 4,
 "nbformat_minor": 4
}
