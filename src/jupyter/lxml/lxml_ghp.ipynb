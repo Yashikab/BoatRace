{
 "cells": [
  {
   "cell_type": "code",
   "execution_count": 1,
   "metadata": {},
   "outputs": [],
   "source": [
    "import lxml.html as lxml"
   ]
  },
  {
   "cell_type": "code",
   "execution_count": 2,
   "metadata": {},
   "outputs": [],
   "source": [
    "with open(\"ghp_20200408.html\", \"r\") as f:\n",
    "    html_source = f.read()"
   ]
  },
  {
   "cell_type": "code",
   "execution_count": 3,
   "metadata": {},
   "outputs": [],
   "source": [
    "lx_content = lxml.fromstring(html_source)"
   ]
  },
  {
   "cell_type": "code",
   "execution_count": 4,
   "metadata": {},
   "outputs": [],
   "source": [
    "# 抜き出すテーブルのxpath\n",
    "target_table_xpath = \"/html/body/main/div/div/div/div[2]/div[3]/table\""
   ]
  },
  {
   "cell_type": "code",
   "execution_count": 5,
   "metadata": {},
   "outputs": [],
   "source": [
    "def _getplacename(target_el: lxml.Element) -> str:\n",
    "    \"\"\"\n",
    "    Elementから会場名を抜き出す\n",
    "    \"\"\"\n",
    "    place_name = target_el.attrib[\"alt\"]\n",
    "    # 不要な文字を削除\n",
    "    place_name = place_name.replace(\">\", \"\")\n",
    "    return place_name"
   ]
  },
  {
   "cell_type": "code",
   "execution_count": 8,
   "metadata": {},
   "outputs": [],
   "source": [
    "# 会場名のパス\n",
    "place_name_xpath = \"/\".join([target_table_xpath,\n",
    "                             \"tbody/tr/td[1]/a/img\"])\n",
    "place_name_list = \\\n",
    "    list(map(_getplacename,\n",
    "             lx_content.xpath(place_name_xpath)))"
   ]
  },
  {
   "cell_type": "code",
   "execution_count": 9,
   "metadata": {},
   "outputs": [
    {
     "data": {
      "text/plain": [
       "['江戸川', '浜名湖', '常滑', '津', '三国', '尼崎', '徳山', '下関', '若松', '福岡', '大村']"
      ]
     },
     "execution_count": 9,
     "metadata": {},
     "output_type": "execute_result"
    }
   ],
   "source": [
    "place_name_list"
   ]
  },
  {
   "cell_type": "code",
   "execution_count": 10,
   "metadata": {},
   "outputs": [],
   "source": [
    "def _getshinkoinfo(target_el) -> str:\n",
    "    \"\"\"\n",
    "    中止などの情報を抜き出す\n",
    "    \"\"\"\n",
    "    return target_el.text"
   ]
  },
  {
   "cell_type": "code",
   "execution_count": 11,
   "metadata": {},
   "outputs": [],
   "source": [
    "# 進行状況のパス\n",
    "shinko_info_xpath = \"/\".join([target_table_xpath, \"tbody/tr/td[2]\"])\n",
    "shinko_info_list = \\\n",
    "    list(map(_getshinkoinfo,\n",
    "             lx_content.xpath(shinko_info_xpath)))"
   ]
  },
  {
   "cell_type": "code",
   "execution_count": 12,
   "metadata": {},
   "outputs": [
    {
     "data": {
      "text/plain": [
       "['-', '-', '-', '-', '-', '-', '-', '-', '-', '-', '-']"
      ]
     },
     "execution_count": 12,
     "metadata": {},
     "output_type": "execute_result"
    }
   ],
   "source": [
    "shinko_info_list"
   ]
  },
  {
   "cell_type": "code",
   "execution_count": 13,
   "metadata": {},
   "outputs": [
    {
     "data": {
      "text/plain": [
       "[<Element td at 0x7f7027da85f0>,\n",
       " <Element td at 0x7f7027da8590>,\n",
       " <Element td at 0x7f7027da8530>,\n",
       " <Element td at 0x7f7027da80b0>,\n",
       " <Element td at 0x7f7027da8470>,\n",
       " <Element td at 0x7f7027da8230>,\n",
       " <Element td at 0x7f7027da8290>,\n",
       " <Element td at 0x7f7027da83b0>,\n",
       " <Element td at 0x7f7027da8170>,\n",
       " <Element td at 0x7f7027da8110>,\n",
       " <Element td at 0x7f7027da8050>]"
      ]
     },
     "execution_count": 13,
     "metadata": {},
     "output_type": "execute_result"
    }
   ],
   "source": [
    "lx_content.xpath(\"/html/body/main/div/div/div/div[2]/div[3]/table/tbody/tr/td[2]\")"
   ]
  },
  {
   "cell_type": "code",
   "execution_count": 18,
   "metadata": {},
   "outputs": [
    {
     "data": {
      "text/plain": [
       "[<Element td at 0x7fc865d27b30>,\n",
       " <Element td at 0x7fc865d27ad0>,\n",
       " <Element td at 0x7fc865d9a710>,\n",
       " <Element td at 0x7fc865da1890>,\n",
       " <Element td at 0x7fc865da18f0>,\n",
       " <Element td at 0x7fc865da1950>,\n",
       " <Element td at 0x7fc865da19b0>,\n",
       " <Element td at 0x7fc865da1a10>,\n",
       " <Element td at 0x7fc865da1a70>,\n",
       " <Element td at 0x7fc865da1ad0>,\n",
       " <Element td at 0x7fc865da1b30>,\n",
       " <Element td at 0x7fc865da1b90>,\n",
       " <Element td at 0x7fc865da1bf0>,\n",
       " <Element td at 0x7fc865d27a70>]"
      ]
     },
     "execution_count": 18,
     "metadata": {},
     "output_type": "execute_result"
    }
   ],
   "source": [
    "target_table_content.xpath(\"//tbody/tr/td[2]\")"
   ]
  },
  {
   "cell_type": "code",
   "execution_count": null,
   "metadata": {},
   "outputs": [],
   "source": []
  }
 ],
 "metadata": {
  "kernelspec": {
   "display_name": "Python 3",
   "language": "python",
   "name": "python3"
  },
  "language_info": {
   "codemirror_mode": {
    "name": "ipython",
    "version": 3
   },
   "file_extension": ".py",
   "mimetype": "text/x-python",
   "name": "python",
   "nbconvert_exporter": "python",
   "pygments_lexer": "ipython3",
   "version": "3.7.5"
  }
 },
 "nbformat": 4,
 "nbformat_minor": 4
}
