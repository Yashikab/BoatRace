{
 "cells": [
  {
   "cell_type": "markdown",
   "metadata": {},
   "source": [
    "# サンプル 浜名湖4月8日３R"
   ]
  },
  {
   "cell_type": "code",
   "execution_count": 2,
   "metadata": {},
   "outputs": [],
   "source": [
    "sample_html = 'http://boatrace.jp/owpc/pc/race/racelist?rno=3&jcd=06&hd=20200408'"
   ]
  },
  {
   "cell_type": "code",
   "execution_count": 3,
   "metadata": {},
   "outputs": [],
   "source": [
    "from urllib.request import urlopen\n",
    "from bs4 import BeautifulSoup"
   ]
  },
  {
   "cell_type": "markdown",
   "metadata": {},
   "source": [
    "## htmlをsoupに取り込み，番組表から各選手のリストを抜く"
   ]
  },
  {
   "cell_type": "code",
   "execution_count": 11,
   "metadata": {},
   "outputs": [],
   "source": [
    "target_url = sample_html\n",
    "__html_content = urlopen(target_url).read()\n",
    "__soup = BeautifulSoup(__html_content, 'html.parser')\n",
    "# 番組表を選択 css selectorより\n",
    "__target_table_selector = \\\n",
    "    'body > main > div > div > '\\\n",
    "    'div > div.contentsFrame1_inner > '\\\n",
    "    'div.table1.is-tableFixed__3rdadd > table'\n",
    "__target_table_html = __soup.select_one(__target_table_selector)\n",
    "player_info_html_list = __target_table_html.select('tbody')\n",
    "assert len(player_info_html_list) == 6, \\\n",
    "    f\"lengh is not 6:{len(player_info_html_list)}\"\n",
    "# row は1からなので-1\n",
    "row = 1\n",
    "__player_html = player_info_html_list[row - 1]\n",
    "# 選手情報は1番目のtr\n",
    "__player_info = __player_html.select_one(\"tr\")\n",
    "__player_info_list = __player_info.select(\"td\")\n",
    "# 名前，登録番号などの欄は2番目\n",
    "player_name_list = __player_info_list[2].select(\"div\")\n",
    "assert len(player_name_list) == 3, \\\n",
    "    f'elements of player name info is not 3: {len(player_name_list)}'\n"
   ]
  },
  {
   "cell_type": "markdown",
   "metadata": {},
   "source": [
    "### 各選手のデータを抜き出す"
   ]
  },
  {
   "cell_type": "code",
   "execution_count": 12,
   "metadata": {},
   "outputs": [],
   "source": [
    "# list 登録番号・級，名前，出身・年齢，体重\n",
    "player_no_level, name, birthplace_age_weight = \\\n",
    "    list(map(lambda elements: elements.text, player_name_list))"
   ]
  },
  {
   "cell_type": "code",
   "execution_count": 45,
   "metadata": {},
   "outputs": [
    {
     "data": {
      "text/plain": [
       "'鈴木裕隆'"
      ]
     },
     "execution_count": 45,
     "metadata": {},
     "output_type": "execute_result"
    }
   ],
   "source": [
    "name.replace('\\n','').replace('\\u3000', '')"
   ]
  },
  {
   "cell_type": "code",
   "execution_count": 20,
   "metadata": {},
   "outputs": [],
   "source": [
    "player_id, player_level = player_no_level.replace('\\r', '').replace('\\n', '').replace(' ', '').split('/')"
   ]
  },
  {
   "cell_type": "code",
   "execution_count": null,
   "metadata": {},
   "outputs": [],
   "source": [
    "player_id = int(player_id)"
   ]
  }
 ],
 "metadata": {
  "kernelspec": {
   "display_name": "Python 3",
   "language": "python",
   "name": "python3"
  },
  "language_info": {
   "codemirror_mode": {
    "name": "ipython",
    "version": 3
   },
   "file_extension": ".py",
   "mimetype": "text/x-python",
   "name": "python",
   "nbconvert_exporter": "python",
   "pygments_lexer": "ipython3",
   "version": "3.7.5"
  }
 },
 "nbformat": 4,
 "nbformat_minor": 4
}
