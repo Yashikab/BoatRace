{
 "cells": [
  {
   "cell_type": "markdown",
   "metadata": {},
   "source": [
    "# 浜名湖 4月8日 ９R オッズ"
   ]
  },
  {
   "cell_type": "markdown",
   "metadata": {},
   "source": [
    "## 3連単"
   ]
  },
  {
   "cell_type": "code",
   "execution_count": 1,
   "metadata": {},
   "outputs": [],
   "source": [
    "sample_html = \\\n",
    "    'http://boatrace.jp/owpc/pc/race/odds3t?rno=9&jcd=06&hd=20200408'"
   ]
  },
  {
   "cell_type": "markdown",
   "metadata": {},
   "source": [
    "## 3連複"
   ]
  },
  {
   "cell_type": "code",
   "execution_count": 1,
   "metadata": {},
   "outputs": [],
   "source": [
    "sample_html = \\\n",
    "    'http://boatrace.jp/owpc/pc/race/odds3f?rno=9&jcd=06&hd=20200408'"
   ]
  },
  {
   "cell_type": "markdown",
   "metadata": {},
   "source": [
    "## 2連単・連複"
   ]
  },
  {
   "cell_type": "code",
   "execution_count": 1,
   "metadata": {},
   "outputs": [],
   "source": [
    "sample_html = \\\n",
    "    'http://boatrace.jp/owpc/pc/race/odds2tf?rno=9&jcd=06&hd=20200408'"
   ]
  },
  {
   "cell_type": "markdown",
   "metadata": {},
   "source": [
    "## 単勝"
   ]
  },
  {
   "cell_type": "code",
   "execution_count": 1,
   "metadata": {},
   "outputs": [],
   "source": [
    "sample_html = \\\n",
    "    'http://boatrace.jp/owpc/pc/race/oddstf?rno=9&jcd=06&hd=20200408'"
   ]
  },
  {
   "cell_type": "code",
   "execution_count": 2,
   "metadata": {},
   "outputs": [],
   "source": [
    "from urllib.request import urlopen\n",
    "from bs4 import BeautifulSoup\n",
    "import re"
   ]
  },
  {
   "cell_type": "code",
   "execution_count": 3,
   "metadata": {},
   "outputs": [],
   "source": [
    "target_url  = sample_html\n",
    "__html_content = urlopen(target_url).read()\n",
    "__soup = BeautifulSoup(__html_content, 'html.parser')"
   ]
  },
  {
   "cell_type": "code",
   "execution_count": 4,
   "metadata": {},
   "outputs": [],
   "source": [
    "__target_table_selector = \\\n",
    "    'body > main > div > div > div > '\\\n",
    "    'div.contentsFrame1_inner > div.grid.is-type2.h-clear '\\\n",
    "    '> div:nth-child(1) > div.table1 > table'\n",
    "odds_table = __soup.select_one(__target_table_selector)"
   ]
  },
  {
   "cell_type": "code",
   "execution_count": 5,
   "metadata": {},
   "outputs": [],
   "source": [
    "__odds_html_list = odds_table.select('tbody tr td.oddsPoint')\n",
    "odds_list = list(map(lambda x: float(x.text), __odds_html_list))"
   ]
  },
  {
   "cell_type": "code",
   "execution_count": 12,
   "metadata": {},
   "outputs": [
    {
     "data": {
      "text/plain": [
       "[1.0, 6.1, 12.2, 54.9, 54.9, 9.1]"
      ]
     },
     "execution_count": 12,
     "metadata": {},
     "output_type": "execute_result"
    }
   ],
   "source": [
    "odds_list"
   ]
  },
  {
   "cell_type": "code",
   "execution_count": 39,
   "metadata": {},
   "outputs": [],
   "source": [
    "import numpy as np\n",
    "yoko_list = odds_table.select('tr')\n",
    "\n",
    "# oddsPointクラスを抜き，要素を少数に変換してリストで返す\n",
    "def getoddsPoint2floatlist(odds_tr):\n",
    "    __html_list = odds_tr.select('td.oddsPoint')\n",
    "    __text_list = list(map(lambda x: x.text, __html_list))\n",
    "    float_list = list(map(\n",
    "        lambda x: float(x), __text_list))\n",
    "    return float_list\n",
    "\n",
    "odds_matrix = list(map(\n",
    "    lambda x: getoddsPoint2floatlist(x),\n",
    "    yoko_list\n",
    "))"
   ]
  },
  {
   "cell_type": "code",
   "execution_count": 40,
   "metadata": {},
   "outputs": [
    {
     "name": "stdout",
     "output_type": "stream",
     "text": [
      "[2.0]\n",
      "[4.7, 25.7]\n",
      "[40.3, 141.3, 47.1]\n",
      "[11.3, 31.4, 35.3, 31.4]\n",
      "[4.0, 18.8, 28.2, 141.3, 56.5]\n"
     ]
    }
   ],
   "source": [
    "# 1番目の要素から抜いていく -1で空を保管し，filterで除く\n",
    "odds_list = []\n",
    "for l in odds_matrix:\n",
    "    print(l)\n",
    "    odds_list.append(l.pop(0))\n",
    "odds_list = list(filter(lambda x: x != -1, odds_list))"
   ]
  },
  {
   "cell_type": "code",
   "execution_count": 44,
   "metadata": {},
   "outputs": [
    {
     "data": {
      "text/plain": [
       "True"
      ]
     },
     "execution_count": 44,
     "metadata": {},
     "output_type": "execute_result"
    }
   ],
   "source": [
    "odds_list"
   ]
  },
  {
   "cell_type": "code",
   "execution_count": 19,
   "metadata": {},
   "outputs": [],
   "source": [
    "# 辞書で格納する\n",
    "content_dict = {}\n",
    "for fst in range(1, 6):\n",
    "    if fst not in content_dict.keys():\n",
    "        content_dict[fst] = {}\n",
    "    for snd in range(fst+1, 7):\n",
    "        if snd not in content_dict[fst].keys():\n",
    "            content_dict[fst][snd] = 0"
   ]
  },
  {
   "cell_type": "code",
   "execution_count": 10,
   "metadata": {},
   "outputs": [],
   "source": [
    "odds_matrix = np.array(odds_matrix)\n",
    "assert odds_matrix.shape == (5, 6)\n",
    "# 転置を取り，つなげてリスト化\n",
    "odds_list = list(odds_matrix.T.reshape(-1))\n",
    "\n",
    "# 辞書で格納する\n",
    "content_dict = {}\n",
    "for fst in range(1, 7):\n",
    "    if fst not in content_dict.keys():\n",
    "        content_dict[fst] = {}\n",
    "    for snd in range(1, 7):\n",
    "        if snd != fst:\n",
    "            if snd not in content_dict[fst].keys():\n",
    "                content_dict[fst][snd] = odds_list.pop(0)"
   ]
  },
  {
   "cell_type": "code",
   "execution_count": 32,
   "metadata": {},
   "outputs": [
    {
     "data": {
      "text/plain": [
       "5"
      ]
     },
     "execution_count": 32,
     "metadata": {},
     "output_type": "execute_result"
    }
   ],
   "source": [
    "len(odds_matrix)"
   ]
  },
  {
   "cell_type": "code",
   "execution_count": 57,
   "metadata": {},
   "outputs": [],
   "source": [
    "odds_list = []\n",
    "for l in range(4):\n",
    "    odds_list += list(map(lambda x: x.pop(0) if len(x) != 0 else -1, odds_matrix))"
   ]
  },
  {
   "cell_type": "code",
   "execution_count": 59,
   "metadata": {},
   "outputs": [],
   "source": [
    "odds_list = list(filter(lambda x: x != -1, odds_list))"
   ]
  },
  {
   "cell_type": "code",
   "execution_count": 73,
   "metadata": {},
   "outputs": [],
   "source": [
    "# 辞書で格納する\n",
    "content_dict = {}\n",
    "for fst in range(1, 5):\n",
    "    if fst not in content_dict.keys():\n",
    "        content_dict[fst] = {}\n",
    "    for snd in range(fst+1, 6):\n",
    "        if snd not in content_dict[fst].keys():\n",
    "            content_dict[fst][snd] = {}\n",
    "        for trd in range(snd+1, 7):\n",
    "            content_dict[fst][snd][trd] = \\\n",
    "                odds_list.pop(0)"
   ]
  },
  {
   "cell_type": "code",
   "execution_count": 74,
   "metadata": {},
   "outputs": [
    {
     "data": {
      "text/plain": [
       "{1: {2: {3: 2.9, 4: 72.8, 5: 11.4, 6: 2.3},\n",
       "  3: {4: 76.3, 5: 15.2, 6: 4.8},\n",
       "  4: {5: 69.6, 6: 94.2},\n",
       "  5: {6: 16.5}},\n",
       " 2: {3: {4: 160.2, 5: 84.3, 6: 40.0}, 4: {5: 200.3, 6: 178.0}, 5: {6: 84.3}},\n",
       " 3: {4: {5: 200.3, 6: 267.1}, 5: {6: 55.2}},\n",
       " 4: {5: {6: 228.9}}}"
      ]
     },
     "execution_count": 74,
     "metadata": {},
     "output_type": "execute_result"
    }
   ],
   "source": [
    "content_dict"
   ]
  },
  {
   "cell_type": "code",
   "execution_count": 75,
   "metadata": {},
   "outputs": [
    {
     "data": {
      "text/plain": [
       "[]"
      ]
     },
     "execution_count": 75,
     "metadata": {},
     "output_type": "execute_result"
    }
   ],
   "source": [
    "odds_list"
   ]
  },
  {
   "cell_type": "code",
   "execution_count": null,
   "metadata": {},
   "outputs": [],
   "source": []
  }
 ],
 "metadata": {
  "kernelspec": {
   "display_name": "Python 3",
   "language": "python",
   "name": "python3"
  },
  "language_info": {
   "codemirror_mode": {
    "name": "ipython",
    "version": 3
   },
   "file_extension": ".py",
   "mimetype": "text/x-python",
   "name": "python",
   "nbconvert_exporter": "python",
   "pygments_lexer": "ipython3",
   "version": "3.7.5"
  },
  "toc-autonumbering": false,
  "toc-showcode": true,
  "toc-showmarkdowntxt": true
 },
 "nbformat": 4,
 "nbformat_minor": 4
}
