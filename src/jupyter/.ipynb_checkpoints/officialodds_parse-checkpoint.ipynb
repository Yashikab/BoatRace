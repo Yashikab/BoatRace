{
 "cells": [
  {
   "cell_type": "markdown",
   "metadata": {},
   "source": [
    "# 浜名湖 4月8日 ９R オッズ"
   ]
  },
  {
   "cell_type": "markdown",
   "metadata": {},
   "source": [
    "## 3連単"
   ]
  },
  {
   "cell_type": "code",
   "execution_count": 1,
   "metadata": {},
   "outputs": [],
   "source": [
    "sample_html = \\\n",
    "    'http://boatrace.jp/owpc/pc/race/odds3t?rno=9&jcd=06&hd=20200408'"
   ]
  },
  {
   "cell_type": "code",
   "execution_count": 2,
   "metadata": {},
   "outputs": [],
   "source": [
    "from urllib.request import urlopen\n",
    "from bs4 import BeautifulSoup\n",
    "import re"
   ]
  },
  {
   "cell_type": "code",
   "execution_count": 7,
   "metadata": {},
   "outputs": [],
   "source": [
    "target_url  = sample_html\n",
    "__html_content = urlopen(target_url).read()\n",
    "__soup = BeautifulSoup(__html_content, 'html.parser')"
   ]
  },
  {
   "cell_type": "code",
   "execution_count": 13,
   "metadata": {},
   "outputs": [],
   "source": [
    "__target_table_selector = \\\n",
    "    'body > main > div > div > div > '\\\n",
    "    'div.contentsFrame1_inner > div:nth-child(6) > '\\\n",
    "    'table > tbody'\n",
    "odds_table = __soup.select_one(__target_table_selector)"
   ]
  },
  {
   "cell_type": "code",
   "execution_count": 33,
   "metadata": {},
   "outputs": [
    {
     "data": {
      "text/plain": [
       "[<td class=\"oddsPoint\">6.5</td>,\n",
       " <td class=\"oddsPoint\">34.7</td>,\n",
       " <td class=\"oddsPoint\">69.2</td>,\n",
       " <td class=\"oddsPoint is-fColor1\">1124</td>,\n",
       " <td class=\"oddsPoint\">234.9</td>,\n",
       " <td class=\"oddsPoint\">34.2</td>]"
      ]
     },
     "execution_count": 33,
     "metadata": {},
     "output_type": "execute_result"
    }
   ],
   "source": [
    "odds_table.select('tr')[0].select('td.oddsPoint')"
   ]
  },
  {
   "cell_type": "code",
   "execution_count": 49,
   "metadata": {},
   "outputs": [],
   "source": [
    "yoko_list = odds_table.select('tr')\n",
    "\n",
    "# oddsPointクラスを抜き，要素を少数に変換してリストで返す\n",
    "def getoddsPoint2floatlist(odds_tr):\n",
    "    __html_list = odds_tr.select('td.oddsPoint')\n",
    "    __text_list = list(map(lambda x: x.text, __html_list))\n",
    "    float_list = list(map(\n",
    "        lambda x: float(x), __text_list))\n",
    "    return float_list\n",
    "\n",
    "odds_matrix = list(map(\n",
    "    lambda x: getoddsPoint2floatlist(x),\n",
    "    yoko_list\n",
    "))"
   ]
  },
  {
   "cell_type": "code",
   "execution_count": 54,
   "metadata": {},
   "outputs": [],
   "source": [
    "import numpy as np\n",
    "odds_matrix = np.array(odds_matrix)"
   ]
  },
  {
   "cell_type": "code",
   "execution_count": 79,
   "metadata": {},
   "outputs": [],
   "source": [
    "odds_list = list(odds_matrix.T.reshape(120))"
   ]
  },
  {
   "cell_type": "code",
   "execution_count": 85,
   "metadata": {},
   "outputs": [],
   "source": [
    "# 辞書のkeyをつくる\n",
    "content_dict = {}\n",
    "\n",
    "for fst in range(1,7):\n",
    "    if fst not in content_dict.keys():\n",
    "        content_dict[fst] = {}\n",
    "    for snd in range(1,7):\n",
    "        if snd != fst:\n",
    "            if snd not in content_dict[fst].keys():\n",
    "                content_dict[fst][snd] = {}\n",
    "            for trd in range(1, 7):\n",
    "                if trd != fst and trd != snd:\n",
    "                    content_dict[fst][snd][trd] = odds_list.pop(0)"
   ]
  },
  {
   "cell_type": "code",
   "execution_count": 86,
   "metadata": {},
   "outputs": [
    {
     "data": {
      "text/plain": [
       "{1: {2: {3: 6.5, 4: 126.6, 5: 15.5, 6: 5.4},\n",
       "  3: {2: 10.6, 4: 182.9, 5: 37.0, 6: 11.2},\n",
       "  4: {2: 403.5, 3: 517.4, 5: 585.6, 6: 365.0},\n",
       "  5: {2: 43.5, 3: 66.1, 4: 446.2, 6: 52.2},\n",
       "  6: {2: 7.9, 3: 11.2, 4: 221.9, 5: 24.0}},\n",
       " 2: {1: {3: 34.7, 4: 368.2, 5: 66.5, 6: 28.8},\n",
       "  3: {1: 95.8, 4: 1317.0, 5: 345.6, 6: 161.2},\n",
       "  4: {1: 1258.0, 3: 2480.0, 5: 2056.0, 6: 1621.0},\n",
       "  5: {1: 274.7, 3: 533.7, 4: 1916.0, 6: 394.0},\n",
       "  6: {1: 82.5, 3: 171.0, 4: 969.3, 5: 310.0}},\n",
       " 3: {1: {2: 69.2, 4: 527.1, 5: 138.4, 6: 64.1},\n",
       "  2: {1: 111.2, 4: 1124.0, 5: 374.8, 6: 196.5},\n",
       "  4: {1: 1004.0, 2: 1621.0, 5: 1621.0, 6: 1338.0},\n",
       "  5: {1: 325.6, 2: 419.5, 4: 1277.0, 6: 365.0},\n",
       "  6: {1: 130.1, 2: 181.7, 4: 1081.0, 5: 299.0}},\n",
       " 4: {1: {2: 1124.0, 3: 1591.0, 5: 1721.0, 6: 1454.0},\n",
       "  2: {1: 1240.0, 3: 3373.0, 5: 2162.0, 6: 1653.0},\n",
       "  3: {1: 1833.0, 2: 3666.0, 5: 2162.0, 6: 2811.0},\n",
       "  5: {1: 2480.0, 2: 2162.0, 3: 3833.0, 6: 2555.0},\n",
       "  6: {1: 2162.0, 2: 2635.0, 3: 4960.0, 5: 3514.0}},\n",
       " 5: {1: {2: 234.9, 3: 296.9, 4: 1297.0, 6: 233.6},\n",
       "  2: {1: 413.4, 3: 573.7, 4: 2555.0, 6: 577.6},\n",
       "  3: {1: 691.2, 2: 669.3, 4: 2555.0, 6: 869.4},\n",
       "  4: {1: 2279.0, 2: 2480.0, 3: 3373.0, 6: 2555.0},\n",
       "  6: {1: 395.9, 2: 620.1, 3: 878.5, 4: 2162.0}},\n",
       " 6: {1: {2: 34.2, 3: 50.8, 4: 371.5, 5: 86.4},\n",
       "  2: {1: 74.1, 3: 162.4, 4: 746.3, 5: 251.0},\n",
       "  3: {1: 145.9, 2: 196.5, 4: 1028.0, 5: 374.8},\n",
       "  4: {1: 818.8, 2: 1222.0, 3: 1686.0, 5: 1454.0},\n",
       "  5: {1: 185.7, 2: 260.2, 3: 419.5, 4: 810.9}}}"
      ]
     },
     "execution_count": 86,
     "metadata": {},
     "output_type": "execute_result"
    }
   ],
   "source": [
    "content_dict"
   ]
  },
  {
   "cell_type": "code",
   "execution_count": null,
   "metadata": {},
   "outputs": [],
   "source": []
  }
 ],
 "metadata": {
  "kernelspec": {
   "display_name": "Python 3",
   "language": "python",
   "name": "python3"
  },
  "language_info": {
   "codemirror_mode": {
    "name": "ipython",
    "version": 3
   },
   "file_extension": ".py",
   "mimetype": "text/x-python",
   "name": "python",
   "nbconvert_exporter": "python",
   "pygments_lexer": "ipython3",
   "version": "3.7.5"
  }
 },
 "nbformat": 4,
 "nbformat_minor": 4
}
