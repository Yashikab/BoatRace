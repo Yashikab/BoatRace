{
 "cells": [
  {
   "cell_type": "code",
   "execution_count": 1,
   "metadata": {},
   "outputs": [
    {
     "name": "stdout",
     "output_type": "stream",
     "text": [
      "/bin/sh: 1: source: not found\n"
     ]
    }
   ],
   "source": [
    "!source .bashrc"
   ]
  },
  {
   "cell_type": "code",
   "execution_count": 1,
   "metadata": {},
   "outputs": [
    {
     "name": "stdout",
     "output_type": "stream",
     "text": [
      "['/home/contuser1/codes/jupyter',\n",
      " '/home/contuser1/codes',\n",
      " '/home/contuser1/codes/module',\n",
      " '/home/contuser1/codes/jupyter',\n",
      " '/usr/lib/python37.zip',\n",
      " '/usr/lib/python3.7',\n",
      " '/usr/lib/python3.7/lib-dynload',\n",
      " '',\n",
      " '/home/contuser1/.local/lib/python3.7/site-packages',\n",
      " '/usr/local/lib/python3.7/dist-packages',\n",
      " '/usr/lib/python3/dist-packages',\n",
      " '/home/contuser1/.local/lib/python3.7/site-packages/IPython/extensions',\n",
      " '/home/contuser1/.ipython']\n"
     ]
    }
   ],
   "source": [
    "import sys\n",
    "import pprint\n",
    "pprint.pprint(sys.path)"
   ]
  },
  {
   "cell_type": "code",
   "execution_count": 1,
   "metadata": {},
   "outputs": [
    {
     "name": "stdout",
     "output_type": "stream",
     "text": [
      "/bin/sh: 1: ll: not found\n"
     ]
    }
   ],
   "source": []
  }
 ],
 "metadata": {
  "kernelspec": {
   "display_name": "Python 3",
   "language": "python",
   "name": "python3"
  },
  "language_info": {
   "codemirror_mode": {
    "name": "ipython",
    "version": 3
   },
   "file_extension": ".py",
   "mimetype": "text/x-python",
   "name": "python",
   "nbconvert_exporter": "python",
   "pygments_lexer": "ipython3",
   "version": "3.7.5"
  }
 },
 "nbformat": 4,
 "nbformat_minor": 4
}
