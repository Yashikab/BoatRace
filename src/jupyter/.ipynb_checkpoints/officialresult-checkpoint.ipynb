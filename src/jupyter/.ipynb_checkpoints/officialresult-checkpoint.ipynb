{
 "cells": [
  {
   "cell_type": "markdown",
   "metadata": {},
   "source": [
    "# 浜名湖4月8日 9R 結果"
   ]
  },
  {
   "cell_type": "code",
   "execution_count": 1,
   "metadata": {},
   "outputs": [],
   "source": [
    "sample_html = \\\n",
    "    'http://boatrace.jp/owpc/pc/race/raceresult?rno=9&jcd=06&hd=20200408'"
   ]
  },
  {
   "cell_type": "code",
   "execution_count": 2,
   "metadata": {},
   "outputs": [],
   "source": [
    "from urllib.request import urlopen\n",
    "from bs4 import BeautifulSoup\n",
    "import re"
   ]
  },
  {
   "cell_type": "markdown",
   "metadata": {},
   "source": [
    "## htmlをsoupに取り込む"
   ]
  },
  {
   "cell_type": "code",
   "execution_count": 4,
   "metadata": {},
   "outputs": [],
   "source": [
    "target_url = sample_html\n",
    "__html_content = urlopen(target_url).read()\n",
    "__soup = BeautifulSoup(__html_content, 'html.parser')"
   ]
  },
  {
   "cell_type": "markdown",
   "metadata": {},
   "source": [
    "### 結果表を抜く"
   ]
  },
  {
   "cell_type": "code",
   "execution_count": 7,
   "metadata": {},
   "outputs": [],
   "source": [
    "__target_table_selector = \\\n",
    "    'body > main > div > div > div > '\\\n",
    "    'div.contentsFrame1_inner > div.grid.is-type2.h-clear.h-mt10 > '\\\n",
    "    'div:nth-child(1) > div > table'\n",
    "__target_table_html = __soup.select_one(__target_table_selector)\n",
    "player_res_html_list = __target_table_html.select('tbody')\n",
    "assert len(player_info_html_list) == 6, \\\n",
    "    f\"lengh is not 6:{len(player_info_html_list)}\""
   ]
  },
  {
   "cell_type": "code",
   "execution_count": 8,
   "metadata": {},
   "outputs": [
    {
     "data": {
      "text/plain": [
       "[<tbody>\n",
       " <tr>\n",
       " <td class=\"is-fs14\">１</td>\n",
       " <td class=\"is-fs14 is-fBold is-boatColor6\">6</td>\n",
       " <td class=\"is-p10-0\">\n",
       " <span class=\"is-fs12\">4377</span>　\n",
       "                                     <span class=\"is-fs18 is-fBold is-lh24__3rdadd\">濱本　　優一</span>\n",
       " </td>\n",
       " <td>1'48\"6</td>\n",
       " </tr>\n",
       " </tbody>,\n",
       " <tbody>\n",
       " <tr>\n",
       " <td class=\"is-fs14\">２</td>\n",
       " <td class=\"is-fs14 is-fBold is-boatColor1\">1</td>\n",
       " <td class=\"is-p10-0\">\n",
       " <span class=\"is-fs12\">3641</span>　\n",
       "                                     <span class=\"is-fs18 is-fBold is-lh24__3rdadd\">一瀬　　　明</span>\n",
       " </td>\n",
       " <td>1'51\"2</td>\n",
       " </tr>\n",
       " </tbody>,\n",
       " <tbody>\n",
       " <tr>\n",
       " <td class=\"is-fs14\">３</td>\n",
       " <td class=\"is-fs14 is-fBold is-boatColor2\">2</td>\n",
       " <td class=\"is-p10-0\">\n",
       " <span class=\"is-fs12\">3462</span>　\n",
       "                                     <span class=\"is-fs18 is-fBold is-lh24__3rdadd\">竹上　　真司</span>\n",
       " </td>\n",
       " <td>1'52\"4</td>\n",
       " </tr>\n",
       " </tbody>,\n",
       " <tbody>\n",
       " <tr>\n",
       " <td class=\"is-fs14\">４</td>\n",
       " <td class=\"is-fs14 is-fBold is-boatColor3\">3</td>\n",
       " <td class=\"is-p10-0\">\n",
       " <span class=\"is-fs12\">3790</span>　\n",
       "                                     <span class=\"is-fs18 is-fBold is-lh24__3rdadd\">佐口　　達也</span>\n",
       " </td>\n",
       " <td>1'54\"2</td>\n",
       " </tr>\n",
       " </tbody>,\n",
       " <tbody>\n",
       " <tr>\n",
       " <td class=\"is-fs14\">５</td>\n",
       " <td class=\"is-fs14 is-fBold is-boatColor5\">5</td>\n",
       " <td class=\"is-p10-0\">\n",
       " <span class=\"is-fs12\">3839</span>　\n",
       "                                     <span class=\"is-fs18 is-fBold is-lh24__3rdadd\">川合　　理司</span>\n",
       " </td>\n",
       " <td> </td>\n",
       " </tr>\n",
       " </tbody>,\n",
       " <tbody>\n",
       " <tr>\n",
       " <td class=\"is-fs14\">６</td>\n",
       " <td class=\"is-fs14 is-fBold is-boatColor4\">4</td>\n",
       " <td class=\"is-p10-0\">\n",
       " <span class=\"is-fs12\">5122</span>　\n",
       "                                     <span class=\"is-fs18 is-fBold is-lh24__3rdadd\">相馬　　　翔</span>\n",
       " </td>\n",
       " <td> </td>\n",
       " </tr>\n",
       " </tbody>]"
      ]
     },
     "execution_count": 8,
     "metadata": {},
     "output_type": "execute_result"
    }
   ],
   "source": [
    "player_res_html_list"
   ]
  },
  {
   "cell_type": "code",
   "execution_count": null,
   "metadata": {},
   "outputs": [],
   "source": []
  }
 ],
 "metadata": {
  "kernelspec": {
   "display_name": "Python 3",
   "language": "python",
   "name": "python3"
  },
  "language_info": {
   "codemirror_mode": {
    "name": "ipython",
    "version": 3
   },
   "file_extension": ".py",
   "mimetype": "text/x-python",
   "name": "python",
   "nbconvert_exporter": "python",
   "pygments_lexer": "ipython3",
   "version": "3.7.5"
  }
 },
 "nbformat": 4,
 "nbformat_minor": 4
}
