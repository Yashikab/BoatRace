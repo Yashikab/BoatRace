{
 "cells": [
  {
   "cell_type": "markdown",
   "metadata": {},
   "source": [
    "# 浜名湖4月8日 9R 直前情報"
   ]
  },
  {
   "cell_type": "code",
   "execution_count": 1,
   "metadata": {},
   "outputs": [],
   "source": [
    "sample_html = \\\n",
    "'http://boatrace.jp/owpc/pc/race/beforeinfo?rno=9&jcd=06&hd=20200408'"
   ]
  },
  {
   "cell_type": "code",
   "execution_count": 2,
   "metadata": {},
   "outputs": [],
   "source": [
    "from urllib.request import urlopen\n",
    "from bs4 import BeautifulSoup\n",
    "import re"
   ]
  },
  {
   "cell_type": "markdown",
   "metadata": {},
   "source": [
    "## htmlをsoupに取り込み，直前情報テーブルから各選手のリストを抜く"
   ]
  },
  {
   "cell_type": "code",
   "execution_count": 3,
   "metadata": {},
   "outputs": [],
   "source": [
    "target_url = sample_html\n",
    "__html_content = urlopen(target_url).read()\n",
    "__soup = BeautifulSoup(__html_content, 'html.parser')\n",
    "__target_table_selector = \\\n",
    "    'body > main > div > div > div > div.contentsFrame1_inner > '\\\n",
    "    'div.grid.is-type3.h-clear > div:nth-child(1) > div.table1 > table'\n",
    "__target_table_html = __soup.select_one(__target_table_selector)\n",
    "player_info_html_list = __target_table_html.select('tbody')\n",
    "assert len(player_info_html_list) == 6, \\\n",
    "    f\"lengh is not 6:{len(player_info_html_list)}\"\n",
    "row = 1\n",
    "__player_html = player_info_html_list[row - 1]\n",
    "# 選手情報は1番目のtr\n",
    "__player_chokuzen = __player_html.select_one(\"tr\")\n",
    "__player_chokuzen_list = __player_chokuzen.select(\"td\")\n",
    "# 名前の欄は3番目\n",
    "player_name_list = __player_chokuzen_list[2].text\n",
    "# 体重は4番目\n",
    "weight = __player_chokuzen_list[3]"
   ]
  },
  {
   "cell_type": "code",
   "execution_count": 9,
   "metadata": {},
   "outputs": [],
   "source": [
    "# 調整体重だけ3番目のtr, 1番目td\n",
    "__p_chokuzen4chosei = __player_html.select(\"tr\")[2]\n",
    "chosei_weight = __p_chokuzen4chosei.select_one(\"td\").text"
   ]
  },
  {
   "cell_type": "markdown",
   "metadata": {},
   "source": [
    "### スタート展示テーブルのパース"
   ]
  },
  {
   "cell_type": "code",
   "execution_count": 11,
   "metadata": {},
   "outputs": [],
   "source": [
    "table_selector = \\\n",
    "    'body > main > div > div > div > div.contentsFrame1_inner '\\\n",
    "    '> div.grid.is-type3.h-clear > div:nth-child(2) '\\\n",
    "    '> div.table1 > table'\n",
    "__target_table_html = __soup.select_one(table_selector)\n",
    "__st_html = __target_table_html.select_one('tbody')\n",
    "st_html_list = __st_html.select('tr')"
   ]
  },
  {
   "cell_type": "code",
   "execution_count": 52,
   "metadata": {},
   "outputs": [],
   "source": [
    "__st_list = list(map(lambda x: x.select('div > span')[2].text, st_html_list))"
   ]
  },
  {
   "cell_type": "code",
   "execution_count": 56,
   "metadata": {},
   "outputs": [
    {
     "data": {
      "text/plain": [
       "[0.14, 0.14, -0.04, 0.16, 0.14, 0.28]"
      ]
     },
     "execution_count": 56,
     "metadata": {},
     "output_type": "execute_result"
    }
   ],
   "source": [
    "list(map(lambda x: float(re.search(r'-*[0-9]*\\.[0-9]+', x.replace('F', '-')).group(0)), __st_list))"
   ]
  },
  {
   "cell_type": "markdown",
   "metadata": {},
   "source": [
    "### 直前の会場状況"
   ]
  },
  {
   "cell_type": "code",
   "execution_count": 4,
   "metadata": {},
   "outputs": [],
   "source": [
    "table_selector = \\\n",
    "'body > main > div > div > div > div.contentsFrame1_inner > '\\\n",
    "'div.grid.is-type3.h-clear > div:nth-child(2) > div.weather1 > '\\\n",
    "'div.weather1_body'\n",
    "__target_table_html = __soup.select_one(table_selector)"
   ]
  },
  {
   "cell_type": "code",
   "execution_count": 5,
   "metadata": {},
   "outputs": [],
   "source": [
    "condinfo_html_list = __target_table_html.select('div')"
   ]
  },
  {
   "cell_type": "code",
   "execution_count": 6,
   "metadata": {},
   "outputs": [
    {
     "data": {
      "text/plain": [
       "[<div class=\"weather1_bodyUnit is-direction\">\n",
       " <p class=\"weather1_bodyUnitImage is-direction13\"></p><!-- 方角画像 -->\n",
       " <div class=\"weather1_bodyUnitLabel\">\n",
       " <span class=\"weather1_bodyUnitLabelTitle\">気温</span>\n",
       " <span class=\"weather1_bodyUnitLabelData\">17.0℃</span>\n",
       " </div><!-- /.weather1_bodyUnitLabel -->\n",
       " </div>,\n",
       " <div class=\"weather1_bodyUnitLabel\">\n",
       " <span class=\"weather1_bodyUnitLabelTitle\">気温</span>\n",
       " <span class=\"weather1_bodyUnitLabelData\">17.0℃</span>\n",
       " </div>,\n",
       " <div class=\"weather1_bodyUnit is-weather\">\n",
       " <p class=\"weather1_bodyUnitImage is-weather1\"></p><!-- 天候画像 -->\n",
       " <div class=\"weather1_bodyUnitLabel\">\n",
       " <span class=\"weather1_bodyUnitLabelTitle\">晴</span>\n",
       " </div><!-- /.weather1_bodyUnitLabel -->\n",
       " </div>,\n",
       " <div class=\"weather1_bodyUnitLabel\">\n",
       " <span class=\"weather1_bodyUnitLabelTitle\">晴</span>\n",
       " </div>,\n",
       " <div class=\"weather1_bodyUnit is-wind\">\n",
       " <div class=\"weather1_bodyUnitLabel\">\n",
       " <span class=\"weather1_bodyUnitLabelTitle\">風速</span>\n",
       " <span class=\"weather1_bodyUnitLabelData\">4m</span>\n",
       " </div><!-- /.weather1_bodyUnitLabel -->\n",
       " </div>,\n",
       " <div class=\"weather1_bodyUnitLabel\">\n",
       " <span class=\"weather1_bodyUnitLabelTitle\">風速</span>\n",
       " <span class=\"weather1_bodyUnitLabelData\">4m</span>\n",
       " </div>,\n",
       " <div class=\"weather1_bodyUnit is-windDirection\">\n",
       " <p class=\"weather1_bodyUnitImage is-wind13\"></p><!-- 風向画像 -->\n",
       " </div>,\n",
       " <div class=\"weather1_bodyUnit is-waterTemperature\">\n",
       " <div class=\"weather1_bodyUnitLabel\">\n",
       " <span class=\"weather1_bodyUnitLabelTitle\">水温</span>\n",
       " <span class=\"weather1_bodyUnitLabelData\">16.0℃</span>\n",
       " </div><!-- /.weather1_bodyUnitLabel -->\n",
       " </div>,\n",
       " <div class=\"weather1_bodyUnitLabel\">\n",
       " <span class=\"weather1_bodyUnitLabelTitle\">水温</span>\n",
       " <span class=\"weather1_bodyUnitLabelData\">16.0℃</span>\n",
       " </div>,\n",
       " <div class=\"weather1_bodyUnit is-wave\">\n",
       " <div class=\"weather1_bodyUnitLabel\">\n",
       " <span class=\"weather1_bodyUnitLabelTitle\">波高</span>\n",
       " <span class=\"weather1_bodyUnitLabelData\">2cm</span>\n",
       " </div><!-- /.weather1_bodyUnitLabel -->\n",
       " </div>,\n",
       " <div class=\"weather1_bodyUnitLabel\">\n",
       " <span class=\"weather1_bodyUnitLabelTitle\">波高</span>\n",
       " <span class=\"weather1_bodyUnitLabelData\">2cm</span>\n",
       " </div>,\n",
       " <div class=\"weather1_corner\"><img alt=\"\" height=\"34\" src=\"/static_extra/pc/images/img_corner1_2.png\" width=\"191\"/></div>]"
      ]
     },
     "execution_count": 6,
     "metadata": {},
     "output_type": "execute_result"
    }
   ],
   "source": [
    "condinfo_html_list"
   ]
  },
  {
   "cell_type": "code",
   "execution_count": 29,
   "metadata": {},
   "outputs": [
    {
     "data": {
      "text/plain": [
       "'is-wind13'"
      ]
     },
     "execution_count": 29,
     "metadata": {},
     "output_type": "execute_result"
    }
   ],
   "source": [
    "condinfo_html_list[6].select_one('p')['class'][1]"
   ]
  },
  {
   "cell_type": "code",
   "execution_count": null,
   "metadata": {},
   "outputs": [],
   "source": []
  }
 ],
 "metadata": {
  "kernelspec": {
   "display_name": "Python 3",
   "language": "python",
   "name": "python3"
  },
  "language_info": {
   "codemirror_mode": {
    "name": "ipython",
    "version": 3
   },
   "file_extension": ".py",
   "mimetype": "text/x-python",
   "name": "python",
   "nbconvert_exporter": "python",
   "pygments_lexer": "ipython3",
   "version": "3.7.5"
  }
 },
 "nbformat": 4,
 "nbformat_minor": 4
}
