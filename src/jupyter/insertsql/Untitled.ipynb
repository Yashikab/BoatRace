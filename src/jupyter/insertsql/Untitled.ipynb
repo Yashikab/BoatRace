{
 "cells": [
  {
   "cell_type": "code",
   "execution_count": 1,
   "metadata": {},
   "outputs": [],
   "source": [
    "from module.getdata import GetHoldPlacePast"
   ]
  },
  {
   "cell_type": "code",
   "execution_count": 45,
   "metadata": {},
   "outputs": [],
   "source": [
    "from module.impdt2sql import JyoData2sql"
   ]
  },
  {
   "cell_type": "code",
   "execution_count": 2,
   "metadata": {},
   "outputs": [],
   "source": [
    "date = 20200512\n",
    "ghp = GetHoldPlacePast(target_date=date)"
   ]
  },
  {
   "cell_type": "code",
   "execution_count": 46,
   "metadata": {},
   "outputs": [
    {
     "data": {
      "text/plain": [
       "\"INSERT IGNORE INTO holdjyo_tb VALUES (2020051201, 20200512, 1, '桐生', '-', 12), (2020051202, 20200512, 2, '戸田', '-', 12), (2020051205, 20200512, 5, '多摩川', '-', 12), (2020051206, 20200512, 6, '浜名湖', '-', 12), (2020051209, 20200512, 9, '津', '-', 12), (2020051210, 20200512, 10, '三国', '-', 12), (2020051211, 20200512, 11, 'びわこ', '-', 12), (2020051213, 20200512, 13, '尼崎', '-', 12), (2020051214, 20200512, 14, '鳴門', '-', 12), (2020051218, 20200512, 18, '徳山', '-', 12), (2020051219, 20200512, 19, '下関', '-', 12), (2020051220, 20200512, 20, '若松', '中止順延', 0), (2020051221, 20200512, 21, '芦屋', '-', 12), (2020051222, 20200512, 22, '福岡', '-', 12)\""
      ]
     },
     "execution_count": 46,
     "metadata": {},
     "output_type": "execute_result"
    }
   ],
   "source": [
    "jd2sql = JyoData2sql()\n",
    "jd2sql.create_query(date)"
   ]
  },
  {
   "cell_type": "code",
   "execution_count": 27,
   "metadata": {},
   "outputs": [],
   "source": [
    "hp_str_list = ghp.holdplace2strlist()\n",
    "hp_cd_list = ghp.holdplace2cdlist()"
   ]
  },
  {
   "cell_type": "code",
   "execution_count": 31,
   "metadata": {},
   "outputs": [],
   "source": [
    "hp_s = hp_str_list[0]\n",
    "hp_c = hp_cd_list[0]\n",
    "datejyo_id = int(f\"{date}{hp_c:02}\")"
   ]
  },
  {
   "cell_type": "code",
   "execution_count": 32,
   "metadata": {},
   "outputs": [],
   "source": [
    "hi_dict = ghp.holdinfo2dict(hp_str_list[0])"
   ]
  },
  {
   "cell_type": "code",
   "execution_count": 8,
   "metadata": {},
   "outputs": [],
   "source": [
    "info_dict = hi_dict"
   ]
  },
  {
   "cell_type": "code",
   "execution_count": 42,
   "metadata": {},
   "outputs": [],
   "source": [
    "id_list=[str(datejyo_id), str(date), str(hp_c), str(f'{hp_s}')]"
   ]
  },
  {
   "cell_type": "code",
   "execution_count": 44,
   "metadata": {},
   "outputs": [
    {
     "data": {
      "text/plain": [
       "['2020051201', '20200512', '1', '桐生', '2020051201', '20200512', '1', '桐生']"
      ]
     },
     "execution_count": 44,
     "metadata": {},
     "output_type": "execute_result"
    }
   ],
   "source": []
  },
  {
   "cell_type": "code",
   "execution_count": 41,
   "metadata": {},
   "outputs": [
    {
     "data": {
      "text/plain": [
       "['2020051201', '20200512', '1', \"'桐生'\"]"
      ]
     },
     "execution_count": 41,
     "metadata": {},
     "output_type": "execute_result"
    }
   ],
   "source": [
    "insert_value_list = list(map(lambda x: f\"{x}\", id_list))\n",
    "insert_value_list"
   ]
  },
  {
   "cell_type": "code",
   "execution_count": 15,
   "metadata": {},
   "outputs": [],
   "source": [
    "insert_value_list = []\n",
    "om"
   ]
  },
  {
   "cell_type": "code",
   "execution_count": 16,
   "metadata": {},
   "outputs": [],
   "source": [
    "for i_key in info_dict.keys():\n",
    "    i_value = info_dict[i_key]\n",
    "    if type(i_value) is str:\n",
    "        # ''で囲む\n",
    "        i_value = f\"'{i_value}'\"\n",
    "    elif i_value is None:\n",
    "        i_value = \"null\"\n",
    "    else:\n",
    "        # \"hoge\" ならそれで統一する\n",
    "        i_value = f\"{i_value}\"\n",
    "    if i_value not in ommit_list:\n",
    "        insert_value_list.append(i_value)\n",
    "insert_value_content = ', '.join(insert_value_list)\n",
    "insert_value = \"(\" + insert_value_content + \")\""
   ]
  },
  {
   "cell_type": "code",
   "execution_count": 17,
   "metadata": {},
   "outputs": [
    {
     "data": {
      "text/plain": [
       "\"('-', 12)\""
      ]
     },
     "execution_count": 17,
     "metadata": {},
     "output_type": "execute_result"
    }
   ],
   "source": [
    "insert_value"
   ]
  },
  {
   "cell_type": "code",
   "execution_count": 18,
   "metadata": {},
   "outputs": [
    {
     "data": {
      "text/plain": [
       "{'shinko': '-', 'ed_race_no': 12}"
      ]
     },
     "execution_count": 18,
     "metadata": {},
     "output_type": "execute_result"
    }
   ],
   "source": [
    "info_dict"
   ]
  },
  {
   "cell_type": "code",
   "execution_count": 4,
   "metadata": {},
   "outputs": [
    {
     "name": "stdout",
     "output_type": "stream",
     "text": [
      "a\n"
     ]
    }
   ],
   "source": [
    "if 1:\n",
    "    print('a')\n",
    "    "
   ]
  },
  {
   "cell_type": "code",
   "execution_count": null,
   "metadata": {},
   "outputs": [],
   "source": []
  }
 ],
 "metadata": {
  "kernelspec": {
   "display_name": "Python 3",
   "language": "python",
   "name": "python3"
  },
  "language_info": {
   "codemirror_mode": {
    "name": "ipython",
    "version": 3
   },
   "file_extension": ".py",
   "mimetype": "text/x-python",
   "name": "python",
   "nbconvert_exporter": "python",
   "pygments_lexer": "ipython3",
   "version": "3.7.5"
  }
 },
 "nbformat": 4,
 "nbformat_minor": 4
}
