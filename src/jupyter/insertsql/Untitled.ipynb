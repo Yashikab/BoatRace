{
 "cells": [
  {
   "cell_type": "code",
   "execution_count": 1,
   "metadata": {},
   "outputs": [],
   "source": [
    "from module.impdt2sql import RaceData2sql"
   ]
  },
  {
   "cell_type": "code",
   "execution_count": 2,
   "metadata": {},
   "outputs": [],
   "source": [
    "rd2sql = RaceData2sql()"
   ]
  },
  {
   "cell_type": "code",
   "execution_count": 3,
   "metadata": {},
   "outputs": [
    {
     "data": {
      "text/plain": [
       "\"INSERT IGNORE INTO raceinfo_tb VALUES (1000000001, 100001, 1001, 100, 'hello')\""
      ]
     },
     "execution_count": 3,
     "metadata": {},
     "output_type": "execute_result"
    }
   ],
   "source": [
    "rd2sql._info_insert(\n",
    "    tb_name = 'raceinfo_tb',\n",
    "    id_list = [1000000001, 100001, 1001],\n",
    "    info_dict = {\"a\": 100, \"b\": \"hello\"}\n",
    ")"
   ]
  },
  {
   "cell_type": "code",
   "execution_count": 7,
   "metadata": {},
   "outputs": [],
   "source": [
    "alcs =A()"
   ]
  },
  {
   "cell_type": "code",
   "execution_count": 12,
   "metadata": {},
   "outputs": [
    {
     "name": "stdout",
     "output_type": "stream",
     "text": [
      "hello\n"
     ]
    },
    {
     "data": {
      "text/plain": [
       "NoneType"
      ]
     },
     "execution_count": 12,
     "metadata": {},
     "output_type": "execute_result"
    }
   ],
   "source": [
    "type(alcs.a())"
   ]
  },
  {
   "cell_type": "code",
   "execution_count": 13,
   "metadata": {},
   "outputs": [
    {
     "data": {
      "text/plain": [
       "__main__.A"
      ]
     },
     "execution_count": 13,
     "metadata": {},
     "output_type": "execute_result"
    }
   ],
   "source": [
    "type(alcs)"
   ]
  },
  {
   "cell_type": "code",
   "execution_count": 1,
   "metadata": {},
   "outputs": [
    {
     "name": "stdout",
     "output_type": "stream",
     "text": [
      "INSERT IGNORE INTO odds_3tan_tb VALUES (202005122101, 31.9, 51.9, 29.1, 96.1, 41.5, 40.0, 20.9, 103.3, 87.3, 70.6, 56.2, 177.7, 27.8, 21.3, 37.5, 73.0, 275.2, 255.9, 314.5, 212.4, 79.1, 109.0, 59.1, 211.7, 113.5, 102.3, 66.0, 172.1, 196.5, 151.6, 123.2, 263.6, 64.6, 59.0, 88.2, 151.4, 467.6, 372.1, 465.8, 374.7, 113.9, 102.7, 54.7, 201.4, 148.2, 126.4, 79.1, 200.3, 104.1, 102.2, 58.4, 112.2, 48.6, 56.1, 49.0, 88.8, 288.6, 285.9, 217.5, 183.4, 207.6, 167.0, 137.6, 338.5, 264.0, 203.4, 168.5, 365.4, 146.0, 137.9, 82.9, 165.4, 116.7, 127.8, 79.4, 157.4, 460.6, 426.9, 302.1, 297.7, 25.6, 22.3, 40.1, 67.4, 35.7, 29.0, 46.6, 91.8, 28.2, 29.9, 31.3, 56.9, 67.9, 62.9, 45.0, 106.6, 157.4, 181.5, 128.5, 179.7, 971.0, 924.6, 984.0, 620.6, 1057.0, 715.9, 897.6, 709.0, 761.9, 693.0, 549.2, 434.5, 917.7, 870.0, 563.5, 610.3, 453.7, 573.2, 423.9, 544.4);\n",
      "INSERT IGNORE INTO odds_3fuku_tb VALUES (202005122101, 7.6, 16.5, 5.6, 45.7, 15.4, 4.2, 41.5, 9.3, 52.7, 33.0, 24.4, 7.7, 65.6, 15.9, 75.2, 44.2, 10.0, 47.8, 28.5, 38.3);\n",
      "INSERT IGNORE INTO odds_2tan_tb VALUES (202005122101, 10.2, 11.2, 16.8, 7.1, 55.4, 19.9, 24.5, 38.9, 20.9, 78.1, 28.4, 31.8, 22.8, 16.2, 66.8, 44.2, 59.8, 31.2, 28.0, 72.4, 8.2, 11.9, 8.1, 15.8, 45.4, 172.0, 176.4, 152.9, 172.0, 108.3);\n",
      "INSERT IGNORE INTO odds_2fuku_tb VALUES (202005122101, 7.9, 6.9, 11.7, 3.5, 32.1, 14.7, 24.8, 7.3, 52.8, 13.5, 5.9, 41.9, 11.6, 44.2, 30.3);\n",
      "INSERT IGNORE INTO odds_1tan_tb VALUES (202005122101, 2.7, 6.4, 8.1, 10.9, 1.8, 18.8);\n"
     ]
    }
   ],
   "source": [
    "from module.dt2sql import Odds2sql\n",
    "od2sql = Odds2sql()\n",
    "od2sql.insert2table(20200512, [21], {21: [1]})"
   ]
  },
  {
   "cell_type": "code",
   "execution_count": 4,
   "metadata": {},
   "outputs": [],
   "source": [
    "a =\"aa\""
   ]
  },
  {
   "cell_type": "code",
   "execution_count": 5,
   "metadata": {},
   "outputs": [],
   "source": [
    "a+=\"b\""
   ]
  },
  {
   "cell_type": "code",
   "execution_count": 6,
   "metadata": {},
   "outputs": [
    {
     "data": {
      "text/plain": [
       "'aab'"
      ]
     },
     "execution_count": 6,
     "metadata": {},
     "output_type": "execute_result"
    }
   ],
   "source": [
    "a"
   ]
  },
  {
   "cell_type": "code",
   "execution_count": null,
   "metadata": {},
   "outputs": [],
   "source": []
  }
 ],
 "metadata": {
  "kernelspec": {
   "display_name": "Python 3",
   "language": "python",
   "name": "python3"
  },
  "language_info": {
   "codemirror_mode": {
    "name": "ipython",
    "version": 3
   },
   "file_extension": ".py",
   "mimetype": "text/x-python",
   "name": "python",
   "nbconvert_exporter": "python",
   "pygments_lexer": "ipython3",
   "version": "3.7.5"
  }
 },
 "nbformat": 4,
 "nbformat_minor": 4
}
