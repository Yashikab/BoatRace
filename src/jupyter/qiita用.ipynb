{
 "cells": [
  {
   "cell_type": "code",
   "execution_count": 8,
   "metadata": {},
   "outputs": [
    {
     "name": "stdout",
     "output_type": "stream",
     "text": [
      "<class 'bytes'>\n"
     ]
    }
   ],
   "source": [
    "from urllib.request import urlopen\n",
    "target_url = \\\n",
    "    'https://www.boatrace.jp/owpc/pc/race/odds3t?rno=12&jcd=02&hd=20200511'\n",
    "html_content = urlopen(target_url).read()\n",
    "print(type(html_content))"
   ]
  },
  {
   "cell_type": "code",
   "execution_count": 9,
   "metadata": {},
   "outputs": [
    {
     "name": "stdout",
     "output_type": "stream",
     "text": [
      "<class 'bs4.BeautifulSoup'>\n"
     ]
    }
   ],
   "source": [
    "from bs4 import BeautifulSoup\n",
    "soup = BeautifulSoup(html_content, 'html.parser')\n",
    "print(type(soup))"
   ]
  },
  {
   "cell_type": "code",
   "execution_count": 16,
   "metadata": {},
   "outputs": [
    {
     "name": "stdout",
     "output_type": "stream",
     "text": [
      "<class 'bs4.element.Tag'>\n"
     ]
    }
   ],
   "source": [
    "target_table_selector = \\\n",
    "    'body > main > div > div > div > '\\\n",
    "    'div.contentsFrame1_inner > div:nth-child(6) > table'\n",
    "odds_table = soup.select_one(target_table_selector)\n",
    "print(type(odds_table))"
   ]
  },
  {
   "cell_type": "code",
   "execution_count": 20,
   "metadata": {},
   "outputs": [
    {
     "name": "stdout",
     "output_type": "stream",
     "text": [
      "<class 'bs4.element.ResultSet'>\n",
      "20\n"
     ]
    }
   ],
   "source": [
    "# tbodyの指定\n",
    "odds_table_elements = odds_table.select_one('tbody')\n",
    "\n",
    "# trを指定しリストとして格納する\n",
    "row_list = odds_table_elements.select('tr')\n",
    "print(type(row_list))\n",
    "print(len(row_list))"
   ]
  },
  {
   "cell_type": "code",
   "execution_count": 33,
   "metadata": {},
   "outputs": [
    {
     "data": {
      "text/plain": [
       "[47.2, 60.3, 588.7, 52.8, 66.0, 248.7]"
      ]
     },
     "execution_count": 33,
     "metadata": {},
     "output_type": "execute_result"
    }
   ],
   "source": [
    "# 各行に対して行う処理\n",
    "def getoddsPoint2floatlist(odds_tr):\n",
    "    # odds値が格納された部分のhtmlのリストを取得\n",
    "    html_list = odds_tr.select('td.oddsPoint')\n",
    "#     print(html_list[0])\n",
    "    # example output:\n",
    "    # <td class=\"oddsPoint\">47.2</td>\n",
    "    # textをつかうことでタグで囲まれた要素のみを抜き出せる\n",
    "    text_list = list(map(lambda x: x.text, html_list))\n",
    "    # print(text_list)\n",
    "    # example output:\n",
    "    # ['47.2', '60.3', '588.7', '52.8', '66.0', '248.7']\n",
    "#     print(text_list)\n",
    "    # oddsは小数値なのでflot型へキャスト\n",
    "    float_list = list(map(\n",
    "        lambda x: float(x), text_list))\n",
    "    return float_list\n",
    "getoddsPoint2floatlist(row_list[0])"
   ]
  },
  {
   "cell_type": "code",
   "execution_count": 35,
   "metadata": {},
   "outputs": [
    {
     "name": "stdout",
     "output_type": "stream",
     "text": [
      "[[47.2, 60.3, 588.7, 52.8, 66.0, 248.7], [14.7, 13.3, 994.9, 361.6, 363.8, 1276.0], [12.0, 11.1, 747.7, 67.1, 137.8, 503.6], [26.7, 26.6, 1155.0, 96.5, 123.7, 414.5], [157.0, 188.8, 566.8, 50.4, 64.3, 241.5], [242.2, 215.7, 660.5, 261.5, 314.5, 1037.0], [237.5, 190.8, 561.6, 36.4, 66.8, 183.4], [403.5, 281.1, 926.8, 49.2, 73.1, 183.6], [35.0, 25.4, 1276.0, 750.0, 930.3, 2462.0], [219.2, 152.2, 959.6, 517.5, 799.1, 1950.0], [59.6, 23.6, 963.4, 650.0, 1139.0, 1779.0], [89.4, 38.4, 1433.0, 639.7, 1237.0, 2321.0], [34.6, 23.8, 1019.0, 63.9, 119.7, 387.5], [212.5, 143.8, 752.3, 36.9, 64.1, 174.3], [76.3, 30.5, 1231.0, 270.8, 452.2, 952.1], [79.6, 35.8, 1614.0, 44.9, 84.1, 244.4], [83.7, 90.6, 2031.0, 110.1, 171.1, 391.8], [356.3, 308.5, 1552.0, 63.2, 103.9, 201.7], [159.7, 77.7, 1408.0, 326.7, 560.3, 1346.0], [136.0, 69.0, 1562.0, 71.4, 148.1, 285.7]]\n"
     ]
    }
   ],
   "source": [
    "odds_matrix = list(map(\n",
    "    lambda x: getoddsPoint2floatlist(x),\n",
    "    row_list\n",
    "))\n",
    "\n",
    "print(odds_matrix)"
   ]
  },
  {
   "cell_type": "code",
   "execution_count": 39,
   "metadata": {},
   "outputs": [],
   "source": [
    "import numpy as np\n",
    "# numpy array化\n",
    "odds_matrix = np.array(odds_matrix)\n",
    "# 転置を取り，つなげてリスト化\n",
    "odds_list = list(odds_matrix.T.reshape(-1))\n",
    "\n",
    "# 辞書で格納する\n",
    "three_rentan_odds_dict = {}\n",
    "for fst in range(1, 7):\n",
    "    if fst not in three_rentan_odds_dict.keys():\n",
    "        three_rentan_odds_dict[str(fst)] = {}\n",
    "    for snd in range(1, 7):\n",
    "        if snd != fst:\n",
    "            if snd not in three_rentan_odds_dict[str(fst)].keys():\n",
    "                three_rentan_odds_dict[str(fst)][str(snd)] = {}\n",
    "            for trd in range(1, 7):\n",
    "                if trd != fst and trd != snd:\n",
    "                    three_rentan_odds_dict[str(fst)][str(snd)][str(trd)] = \\\n",
    "                        odds_list.pop(0)"
   ]
  },
  {
   "cell_type": "code",
   "execution_count": 40,
   "metadata": {},
   "outputs": [
    {
     "name": "stdout",
     "output_type": "stream",
     "text": [
      "sample1: 47.2\n",
      "sample2: 285.7\n"
     ]
    }
   ],
   "source": [
    "print('sample1:', three_rentan_odds_dict['1']['2']['3'])\n",
    "print('sample2:', three_rentan_odds_dict['6']['5']['4'])"
   ]
  },
  {
   "cell_type": "code",
   "execution_count": null,
   "metadata": {},
   "outputs": [],
   "source": []
  }
 ],
 "metadata": {
  "kernelspec": {
   "display_name": "Python 3",
   "language": "python",
   "name": "python3"
  },
  "language_info": {
   "codemirror_mode": {
    "name": "ipython",
    "version": 3
   },
   "file_extension": ".py",
   "mimetype": "text/x-python",
   "name": "python",
   "nbconvert_exporter": "python",
   "pygments_lexer": "ipython3",
   "version": "3.7.5"
  }
 },
 "nbformat": 4,
 "nbformat_minor": 4
}
