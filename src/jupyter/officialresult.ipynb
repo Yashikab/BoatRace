{
 "cells": [
  {
   "cell_type": "markdown",
   "metadata": {},
   "source": [
    "# 浜名湖4月8日 9R 結果"
   ]
  },
  {
   "cell_type": "code",
   "execution_count": 9,
   "metadata": {},
   "outputs": [],
   "source": [
    "sample_html = \\\n",
    "    'http://boatrace.jp/owpc/pc/race/raceresult?rno=9&jcd=06&hd=20200410'"
   ]
  },
  {
   "cell_type": "code",
   "execution_count": 10,
   "metadata": {},
   "outputs": [],
   "source": [
    "from urllib.request import urlopen\n",
    "from bs4 import BeautifulSoup\n",
    "import re"
   ]
  },
  {
   "cell_type": "markdown",
   "metadata": {},
   "source": [
    "## htmlをsoupに取り込む"
   ]
  },
  {
   "cell_type": "code",
   "execution_count": 28,
   "metadata": {},
   "outputs": [],
   "source": [
    "target_url = 'http://boatrace.jp/owpc/pc/race/raceresult?rno=9&jcd=06&hd=20200410'\n",
    "__html_content = urlopen(target_url).read()\n",
    "__soup = BeautifulSoup(__html_content, 'html.parser')"
   ]
  },
  {
   "cell_type": "markdown",
   "metadata": {},
   "source": [
    "### 結果表を抜く"
   ]
  },
  {
   "cell_type": "code",
   "execution_count": 7,
   "metadata": {},
   "outputs": [],
   "source": [
    "__target_table_selector = \\\n",
    "    'body > main > div > div > div > '\\\n",
    "    'div.contentsFrame1_inner > div.grid.is-type2.h-clear.h-mt10 > '\\\n",
    "    'div:nth-child(1) > div > table'\n",
    "__target_table_html = __soup.select_one(__target_table_selector)\n",
    "player_res_html_list = __target_table_html.select('tbody')"
   ]
  },
  {
   "cell_type": "code",
   "execution_count": 46,
   "metadata": {},
   "outputs": [],
   "source": [
    "waku_dict = {}\n",
    "for rank_p_html in player_res_html_list:\n",
    "    rank, waku, name, time = \\\n",
    "        list(map(lambda x: x.text, rank_p_html.select('td')))\n",
    "    # rankはF,L欠などが存在するためエラーハンドルがいる\n",
    "    try:\n",
    "        rank = int(rank)\n",
    "    except ValueError:\n",
    "        rank = -1\n",
    "#     time = time.replace('\"', '.')\n",
    "    waku = int(waku)\n",
    "    name = name.replace('\\n', '').replace('\\u3000', '').replace(' ', '')\n",
    "    no, name = name.split('\\r')\n",
    "    no = int(no)\n",
    "\n",
    "    __content_dict = {\n",
    "        'rank': rank,\n",
    "        'name': name,\n",
    "        'time': time\n",
    "    }\n",
    "\n",
    "    waku_dict[waku] = __content_dict"
   ]
  },
  {
   "cell_type": "markdown",
   "metadata": {},
   "source": [
    "### 結果STテーブルを抜く"
   ]
  },
  {
   "cell_type": "code",
   "execution_count": 6,
   "metadata": {},
   "outputs": [],
   "source": [
    "from getdata import CommonMethods4Official\n",
    "cmo = CommonMethods4Official()\n",
    "__target_table_selector = \\\n",
    "    'body > main > div > div > div > '\\\n",
    "    'div.contentsFrame1_inner > '\\\n",
    "    'div.grid.is-type2.h-clear.h-mt10 > '\\\n",
    "    'div:nth-child(2) > div > table'\n",
    "st_list = cmo.getSTtable2tuple(__soup, __target_table_selector, 1)"
   ]
  },
  {
   "cell_type": "code",
   "execution_count": 7,
   "metadata": {},
   "outputs": [],
   "source": [
    "goutei_list = list(\n",
    "            map(lambda x: int(x.select('div > span')[0].text),\n",
    "                st_list))"
   ]
  },
  {
   "cell_type": "code",
   "execution_count": 8,
   "metadata": {},
   "outputs": [
    {
     "data": {
      "text/plain": [
       "[1, 3, 6, 2, 4, 5]"
      ]
     },
     "execution_count": 8,
     "metadata": {},
     "output_type": "execute_result"
    }
   ],
   "source": [
    "goutei_list"
   ]
  },
  {
   "cell_type": "code",
   "execution_count": 30,
   "metadata": {},
   "outputs": [],
   "source": [
    "__tenji_C_idx = goutei_list.index(6)\n",
    "tenji_C = __tenji_C_idx + 1"
   ]
  },
  {
   "cell_type": "code",
   "execution_count": 31,
   "metadata": {},
   "outputs": [],
   "source": [
    "# 展示ST抜き出し\n",
    "tenji_st_time_list = list(\n",
    "    map(lambda x: x.select('div > span')[2].text,\n",
    "        st_list))"
   ]
  },
  {
   "cell_type": "code",
   "execution_count": 32,
   "metadata": {},
   "outputs": [],
   "source": [
    "tenji_ST = __tenji_st_time_list[__tenji_C_idx]"
   ]
  },
  {
   "cell_type": "code",
   "execution_count": 33,
   "metadata": {},
   "outputs": [],
   "source": [
    "tenji_ST = cmo.rmletter2float(tenji_ST.replace('F', '-'))"
   ]
  },
  {
   "cell_type": "markdown",
   "metadata": {},
   "source": [
    "### 水面気象情報"
   ]
  },
  {
   "cell_type": "code",
   "execution_count": 12,
   "metadata": {},
   "outputs": [],
   "source": [
    "from getdata import CommonMethods4Official\n",
    "cmo = CommonMethods4Official()\n",
    "table_selector = \\\n",
    "    'body > main > div > div > div > '\\\n",
    "    'div.contentsFrame1_inner > div:nth-child(5) > '\\\n",
    "    'div:nth-child(2) > div.grid.is-type6.h-clear > '\\\n",
    "    'div:nth-child(1) > div > div.weather1_body.is-type1__3rdadd'\n",
    "__target_table_html = __soup.select_one(table_selector)\n",
    "condinfo_html_list = __target_table_html.select('div')\n",
    "assert len(condinfo_html_list) == 12, \\\n",
    "    f\"lengh is not 12:{len(condinfo_html_list)}\"\n",
    "# 気温は2番目のdiv\n",
    "__tmp_info_html = condinfo_html_list[1]\n",
    "# spanで情報がとれる (1番目： '気温', 2番目: 数字℃)\n",
    "__tmp_info = __tmp_info_html.select('span')\n",
    "temp = __tmp_info[1].text\n",
    "temp = cmo.rmletter2float(temp)\n",
    "# 天気は2番目のdiv\n",
    "__weather_info_html = condinfo_html_list[2]\n",
    "# spanのなか（1個しかない)\n",
    "weather = __weather_info_html.select_one('span').text\n",
    "weather = weather.replace('\\n', '')\\\n",
    "                 .replace('\\r', '')\\\n",
    "                 .replace(' ','')\n",
    "# 風速は5番目のdiv\n",
    "wind_v = cmo.choose_2nd_span(condinfo_html_list[4])\n",
    "wind_v: int = cmo.rmletter2int(wind_v)\n",
    "\n",
    "# 水温は8番目のdiv\n",
    "w_temp = cmo.choose_2nd_span(condinfo_html_list[7])\n",
    "w_temp = cmo.rmletter2float(w_temp)\n",
    "\n",
    "# 波高は10番目のdiv\n",
    "wave = cmo.choose_2nd_span(condinfo_html_list[9])\n",
    "wave = cmo.rmletter2int(wave)\n",
    "\n",
    "# 風向きは7番目のdiv\n",
    "# 画像のみの情報なので，16方位の数字（画像の名前）を抜く\n",
    "# p中のクラス名2番目にある\n",
    "wind_dr = condinfo_html_list[6].select_one('p')['class'][1]\n",
    "wind_dr = cmo.rmletter2int(wind_dr)\n",
    "\n",
    "content_dict = {\n",
    "    'temp': temp,\n",
    "    'weather': weather,\n",
    "    'wind_v': wind_v,\n",
    "    'w_temp': w_temp,\n",
    "    'wave': wave,\n",
    "    'wind_dr': wind_dr\n",
    "}"
   ]
  },
  {
   "cell_type": "code",
   "execution_count": 13,
   "metadata": {},
   "outputs": [
    {
     "data": {
      "text/plain": [
       "{'temp': 16.0,\n",
       " 'weather': '晴',\n",
       " 'wind_v': 6,\n",
       " 'w_temp': 16.0,\n",
       " 'wave': 4,\n",
       " 'wind_dr': 3}"
      ]
     },
     "execution_count": 13,
     "metadata": {},
     "output_type": "execute_result"
    }
   ],
   "source": [
    "content_dict"
   ]
  },
  {
   "cell_type": "markdown",
   "metadata": {},
   "source": [
    "### 返還挺の確認"
   ]
  },
  {
   "cell_type": "code",
   "execution_count": 125,
   "metadata": {},
   "outputs": [],
   "source": [
    "sample1 = 'http://boatrace.jp/owpc/pc/race/raceresult?rno=9&jcd=06&hd=20200410'\n",
    "sample2 = 'http://boatrace.jp/owpc/pc/race/raceresult?rno=2&jcd=12&hd=20170906'\n",
    "sample3 = 'http://boatrace.jp/owpc/pc/race/raceresult?rno=10&jcd=06&hd=20200410'\n",
    "target_url = sample1\n",
    "__html_content = urlopen(target_url).read()\n",
    "__soup = BeautifulSoup(__html_content, 'html.parser')\n",
    "\n",
    "table_selector = \\\n",
    "'body > main > div > div > div > div.contentsFrame1_inner > '\\\n",
    "'div:nth-child(5) > div:nth-child(2) > div.grid.is-type6.h-clear > '\\\n",
    "'div:nth-child(2) > div:nth-child(1) > table > tbody > tr > td > '\\\n",
    "'div > div span.numberSet1_number'\n",
    "henkan_list = __soup.select(table_selector)"
   ]
  },
  {
   "cell_type": "code",
   "execution_count": 102,
   "metadata": {},
   "outputs": [
    {
     "data": {
      "text/plain": [
       "[]"
      ]
     },
     "execution_count": 102,
     "metadata": {},
     "output_type": "execute_result"
    }
   ],
   "source": [
    "def str2int(tei_str):\n",
    "    tei = re.search(r'[1-6]', tei_str)\n",
    "    if tei != None:\n",
    "        return int(tei.group(0))\n",
    "    else:\n",
    "        return\n",
    "\n",
    "if len(henkan_list) != 0:\n",
    "    henkan_list = list(map(lambda x: str2int(x.text), henkan_list))\n",
    "henkan_list = [n for n in henkan_list if n is not None]\n",
    "henkan_list"
   ]
  },
  {
   "cell_type": "markdown",
   "metadata": {},
   "source": [
    "### 決まり手取得"
   ]
  },
  {
   "cell_type": "code",
   "execution_count": 117,
   "metadata": {},
   "outputs": [],
   "source": [
    "table_selector = \\\n",
    "    'body > main > div > div > div > '\\\n",
    "    'div.contentsFrame1_inner > div:nth-child(5) > '\\\n",
    "    'div:nth-child(2) > div.grid.is-type6.h-clear > '\\\n",
    "    'div:nth-child(2) > div:nth-child(2) > table > tbody > tr > td'"
   ]
  },
  {
   "cell_type": "code",
   "execution_count": 118,
   "metadata": {},
   "outputs": [],
   "source": [
    "kimarite = __soup.select_one(table_selector).text"
   ]
  },
  {
   "cell_type": "markdown",
   "metadata": {},
   "source": [
    "### 備考"
   ]
  },
  {
   "cell_type": "code",
   "execution_count": 126,
   "metadata": {},
   "outputs": [],
   "source": [
    "table_selector = \\\n",
    "    'body > main > div > div > div > '\\\n",
    "    'div.contentsFrame1_inner > div:nth-child(5) > '\\\n",
    "    'div:nth-child(2) > div.table1 > table > tbody > tr > td'"
   ]
  },
  {
   "cell_type": "code",
   "execution_count": 127,
   "metadata": {},
   "outputs": [],
   "source": [
    "biko = __soup.select_one(table_selector).text"
   ]
  },
  {
   "cell_type": "code",
   "execution_count": 130,
   "metadata": {},
   "outputs": [
    {
     "data": {
      "text/plain": [
       "'【返還艇あり】'"
      ]
     },
     "execution_count": 130,
     "metadata": {},
     "output_type": "execute_result"
    }
   ],
   "source": [
    "biko.replace('\\r', '')\\\n",
    "    .replace('\\n', '')\\\n",
    "    .replace(' ', '')"
   ]
  },
  {
   "cell_type": "code",
   "execution_count": 137,
   "metadata": {},
   "outputs": [],
   "source": [
    "import sys\n",
    "import logging\n",
    "logger = logging.getLogger()\n",
    "handler = logging.StreamHandler(sys.stdout)\n",
    "handler.setLevel(logging.DEBUG)\n",
    "logger.addHandler(handler)\n",
    "logger.setLevel(logging.DEBUG)\n",
    "\n",
    "from getdata import OfficialResults\n",
    "ors = OfficialResults(\n",
    "    3, 6, 20200408\n",
    ")"
   ]
  },
  {
   "cell_type": "code",
   "execution_count": 138,
   "metadata": {},
   "outputs": [
    {
     "data": {
      "text/plain": [
       "{'rank': 2,\n",
       " 'name': '鈴木裕隆',\n",
       " 'no': 4231,\n",
       " 'racetime': 111.5,\n",
       " 'course': 1,\n",
       " 'st_time': 0.16}"
      ]
     },
     "execution_count": 138,
     "metadata": {},
     "output_type": "execute_result"
    }
   ],
   "source": [
    "ors.getplayerresult2dict(1)"
   ]
  },
  {
   "cell_type": "code",
   "execution_count": null,
   "metadata": {},
   "outputs": [],
   "source": []
  },
  {
   "cell_type": "code",
   "execution_count": null,
   "metadata": {},
   "outputs": [],
   "source": []
  }
 ],
 "metadata": {
  "kernelspec": {
   "display_name": "Python 3",
   "language": "python",
   "name": "python3"
  },
  "language_info": {
   "codemirror_mode": {
    "name": "ipython",
    "version": 3
   },
   "file_extension": ".py",
   "mimetype": "text/x-python",
   "name": "python",
   "nbconvert_exporter": "python",
   "pygments_lexer": "ipython3",
   "version": "3.7.5"
  }
 },
 "nbformat": 4,
 "nbformat_minor": 4
}
