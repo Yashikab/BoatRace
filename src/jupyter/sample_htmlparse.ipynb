{
 "cells": [
  {
   "cell_type": "markdown",
   "metadata": {},
   "source": [
    "# サンプル 浜名湖4月8日３R"
   ]
  },
  {
   "cell_type": "code",
   "execution_count": 5,
   "metadata": {},
   "outputs": [],
   "source": [
    "sample_html = 'http://boatrace.jp/owpc/pc/race/racelist?rno=3&jcd=06&hd=20200408'"
   ]
  },
  {
   "cell_type": "code",
   "execution_count": 7,
   "metadata": {},
   "outputs": [],
   "source": [
    "from urllib.request import urlopen\n",
    "from bs4 import BeautifulSoup"
   ]
  },
  {
   "cell_type": "markdown",
   "metadata": {},
   "source": [
    "## htmlをsoupに取り込み，番組表から各選手のリストを抜く"
   ]
  },
  {
   "cell_type": "code",
   "execution_count": 8,
   "metadata": {},
   "outputs": [],
   "source": [
    "target_html = sample_html\n",
    "html_content = urlopen(target_html).read()\n",
    "soup = BeautifulSoup(html_content, 'html.parser')"
   ]
  },
  {
   "cell_type": "code",
   "execution_count": 30,
   "metadata": {},
   "outputs": [],
   "source": [
    "# 番組表を選択 css selectorより\n",
    "target_table_selector = 'body > main > div > div > div > div.contentsFrame1_inner > div.table1.is-tableFixed__3rdadd > table'\n",
    "target_table_html = soup.select_one(target_table_selector)\n",
    "# 各選手の行を選択 -> list\n",
    "player_info_html_list = target_table_html.select('tbody')\n",
    "assert len(player_info_html_list) == 6, f\"lengh player_info_html_list is not 6 :{len(player_info_html_list)}\""
   ]
  },
  {
   "cell_type": "markdown",
   "metadata": {},
   "source": [
    "### 各選手のデータを抜き出す"
   ]
  },
  {
   "cell_type": "code",
   "execution_count": 36,
   "metadata": {},
   "outputs": [],
   "source": [
    "player_html = player_info_html_list[0]"
   ]
  },
  {
   "cell_type": "code",
   "execution_count": 37,
   "metadata": {},
   "outputs": [],
   "source": [
    "assert len(player_html.select(\"tr\")) == 4, f'row of player detail is not 4: {len(player_html.select(\"tr\"))}'"
   ]
  },
  {
   "cell_type": "code",
   "execution_count": 38,
   "metadata": {},
   "outputs": [],
   "source": [
    "# 選手情報は1番目のtr\n",
    "player_info = player_html.select_one(\"tr\")"
   ]
  },
  {
   "cell_type": "code",
   "execution_count": 39,
   "metadata": {},
   "outputs": [
    {
     "data": {
      "text/plain": [
       "<tr>\n",
       "<td class=\"is-boatColor1 is-fs14\" rowspan=\"4\">１</td>\n",
       "<td rowspan=\"4\">\n",
       "<a href=\"/owpc/pc/data/racersearch/profile?toban=4231\"><img alt=\"\" height=\"95\" src=\"/racerphoto/4231.jpg\" width=\"67\"/></a>\n",
       "</td>\n",
       "<td rowspan=\"4\">\n",
       "<div class=\"is-fs11\">\n",
       "                            4231 \n",
       "                            / <span class=\"\">B1</span>\n",
       "</div>\n",
       "<div class=\"is-fs18 is-fBold\">\n",
       "<a href=\"/owpc/pc/data/racersearch/profile?toban=4231\">鈴木　　裕隆</a>\n",
       "</div>\n",
       "<div class=\"is-fs11\">\n",
       "                          愛知/愛知\n",
       "                          <br/>36歳/57.0kg\n",
       "                        </div>\n",
       "</td>\n",
       "<td class=\"is-lineH2\" rowspan=\"4\">\n",
       "                        F0\n",
       "                        <br/>L0\n",
       "                        <br/>0.21\n",
       "                      </td>\n",
       "<td class=\"is-lineH2\" rowspan=\"4\">\n",
       "                        4.81\n",
       "                        <br/>29.47\n",
       "                        <br/>46.32\n",
       "                      </td>\n",
       "<td class=\"is-lineH2\" rowspan=\"4\">\n",
       "                        5.00\n",
       "                        <br/>33.33\n",
       "                        <br/>60.00\n",
       "                      </td>\n",
       "<td class=\"is-lineH2\" rowspan=\"4\">\n",
       "                        23\n",
       "                        <br/>54.66\n",
       "                        <br/>72.46\n",
       "                      </td>\n",
       "<td class=\"is-lineH2\" rowspan=\"4\">\n",
       "                        34\n",
       "                        <br/>15.05\n",
       "                        <br/>33.33\n",
       "                      </td>\n",
       "<td rowspan=\"4\"> </td>\n",
       "<td class=\"null is-boatColor2\">8</td>\n",
       "<td class=\"null null\"> </td>\n",
       "<td class=\"null null\"> </td>\n",
       "<td class=\"null null\"> </td>\n",
       "<td class=\"null null\"> </td>\n",
       "<td class=\"null null\"> </td>\n",
       "<td class=\"null null\"> </td>\n",
       "<td class=\"null null\"> </td>\n",
       "<td class=\"null null\"> </td>\n",
       "<td class=\"null null\"> </td>\n",
       "<td class=\"null null\"> </td>\n",
       "<td class=\"null null\"> </td>\n",
       "<td class=\"is-outColor null\"> </td>\n",
       "<td class=\"is-outColor null\"> </td>\n",
       "<td rowspan=\"4\"><a href=\"/owpc/pc/race/racelist?rno=10&amp;jcd=06&amp;hd=20200408\">10R</a></td>\n",
       "</tr>"
      ]
     },
     "execution_count": 39,
     "metadata": {},
     "output_type": "execute_result"
    }
   ],
   "source": []
  }
 ],
 "metadata": {
  "kernelspec": {
   "display_name": "Python 3",
   "language": "python",
   "name": "python3"
  },
  "language_info": {
   "codemirror_mode": {
    "name": "ipython",
    "version": 3
   },
   "file_extension": ".py",
   "mimetype": "text/x-python",
   "name": "python",
   "nbconvert_exporter": "python",
   "pygments_lexer": "ipython3",
   "version": "3.7.5"
  }
 },
 "nbformat": 4,
 "nbformat_minor": 4
}
