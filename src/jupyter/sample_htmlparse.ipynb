{
 "cells": [
  {
   "cell_type": "markdown",
   "metadata": {},
   "source": [
    "# サンプル 浜名湖4月8日３R"
   ]
  },
  {
   "cell_type": "code",
   "execution_count": 1,
   "metadata": {},
   "outputs": [],
   "source": [
    "sample_html = 'http://boatrace.jp/owpc/pc/race/racelist?rno=3&jcd=06&hd=20200408'"
   ]
  },
  {
   "cell_type": "code",
   "execution_count": 2,
   "metadata": {},
   "outputs": [],
   "source": [
    "from urllib.request import urlopen\n",
    "from bs4 import BeautifulSoup"
   ]
  },
  {
   "cell_type": "markdown",
   "metadata": {},
   "source": [
    "## htmlをsoupに取り込み，番組表から各選手のリストを抜く"
   ]
  },
  {
   "cell_type": "code",
   "execution_count": 3,
   "metadata": {},
   "outputs": [],
   "source": [
    "target_html = sample_html\n",
    "html_content = urlopen(target_html).read()\n",
    "soup = BeautifulSoup(html_content, 'html.parser')"
   ]
  },
  {
   "cell_type": "code",
   "execution_count": 4,
   "metadata": {},
   "outputs": [],
   "source": [
    "# 番組表を選択 css selectorより\n",
    "target_table_selector = 'body > main > div > div > div > div.contentsFrame1_inner > div.table1.is-tableFixed__3rdadd > table'\n",
    "target_table_html = soup.select_one(target_table_selector)\n",
    "# 各選手の行を選択 -> list\n",
    "player_info_html_list = target_table_html.select('tbody')\n",
    "assert len(player_info_html_list) == 6, f\"lengh player_info_html_list is not 6 :{len(player_info_html_list)}\""
   ]
  },
  {
   "cell_type": "markdown",
   "metadata": {},
   "source": [
    "### 各選手のデータを抜き出す"
   ]
  },
  {
   "cell_type": "code",
   "execution_count": 48,
   "metadata": {},
   "outputs": [],
   "source": [
    "player_html = player_info_html_list[0].select_one(\"tr\")\n",
    "assert len(player_html) == 4, f'row of player detail is not 4: {len(player_html)}'"
   ]
  },
  {
   "cell_type": "code",
   "execution_count": 49,
   "metadata": {},
   "outputs": [],
   "source": [
    "# 選手情報は1番目のtr\n",
    "player_info = player_html.select_one(\"tr\")"
   ]
  },
  {
   "cell_type": "code",
   "execution_count": 51,
   "metadata": {},
   "outputs": [
    {
     "data": {
      "text/plain": [
       "24"
      ]
     },
     "execution_count": 51,
     "metadata": {},
     "output_type": "execute_result"
    }
   ],
   "source": [
    "player_info_list = player_info.select(\"td\")\n",
    "len(player_info_list)"
   ]
  },
  {
   "cell_type": "code",
   "execution_count": 40,
   "metadata": {},
   "outputs": [],
   "source": [
    "# 名前，登録番号などの欄\n",
    "player_name_list = player_info_list[2].select(\"div\")\n",
    "assert len(player_name_list) == 3 , f'elements of player name info is not 3: {len(player_name_list)}'"
   ]
  },
  {
   "cell_type": "code",
   "execution_count": 42,
   "metadata": {},
   "outputs": [],
   "source": [
    "# list 登録番号・級，名前，出身・年齢，体重\n",
    "player_no_level, name, birthplace_age_weight = list(map(lambda elements : elements.text, player_name_list))"
   ]
  },
  {
   "cell_type": "code",
   "execution_count": 45,
   "metadata": {},
   "outputs": [
    {
     "data": {
      "text/plain": [
       "'鈴木裕隆'"
      ]
     },
     "execution_count": 45,
     "metadata": {},
     "output_type": "execute_result"
    }
   ],
   "source": [
    "name.replace('\\n','').replace('\\u3000', '')"
   ]
  },
  {
   "cell_type": "code",
   "execution_count": null,
   "metadata": {},
   "outputs": [],
   "source": []
  }
 ],
 "metadata": {
  "kernelspec": {
   "display_name": "Python 3",
   "language": "python",
   "name": "python3"
  },
  "language_info": {
   "codemirror_mode": {
    "name": "ipython",
    "version": 3
   },
   "file_extension": ".py",
   "mimetype": "text/x-python",
   "name": "python",
   "nbconvert_exporter": "python",
   "pygments_lexer": "ipython3",
   "version": "3.7.5"
  }
 },
 "nbformat": 4,
 "nbformat_minor": 4
}
