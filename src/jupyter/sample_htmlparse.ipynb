{
 "cells": [
  {
   "cell_type": "markdown",
   "metadata": {},
   "source": [
    "# サンプル 浜名湖4月8日３R"
   ]
  },
  {
   "cell_type": "code",
   "execution_count": 2,
   "metadata": {},
   "outputs": [],
   "source": [
    "sample_html = 'http://boatrace.jp/owpc/pc/race/racelist?rno=3&jcd=06&hd=20200408'"
   ]
  },
  {
   "cell_type": "code",
   "execution_count": 3,
   "metadata": {},
   "outputs": [],
   "source": [
    "from urllib.request import urlopen\n",
    "from bs4 import BeautifulSoup\n",
    "import re"
   ]
  },
  {
   "cell_type": "markdown",
   "metadata": {},
   "source": [
    "## htmlをsoupに取り込み，番組表から各選手のリストを抜く"
   ]
  },
  {
   "cell_type": "code",
   "execution_count": 4,
   "metadata": {},
   "outputs": [],
   "source": [
    "target_url = sample_html\n",
    "__html_content = urlopen(target_url).read()\n",
    "__soup = BeautifulSoup(__html_content, 'html.parser')\n",
    "# 番組表を選択 css selectorより\n",
    "__target_table_selector = \\\n",
    "    'body > main > div > div > '\\\n",
    "    'div > div.contentsFrame1_inner > '\\\n",
    "    'div.table1.is-tableFixed__3rdadd > table'\n",
    "__target_table_html = __soup.select_one(__target_table_selector)\n",
    "player_info_html_list = __target_table_html.select('tbody')\n",
    "assert len(player_info_html_list) == 6, \\\n",
    "    f\"lengh is not 6:{len(player_info_html_list)}\"\n",
    "# row は1からなので-1\n",
    "row = 1\n",
    "__player_html = player_info_html_list[row - 1]\n",
    "# 選手情報は1番目のtr\n",
    "__player_info = __player_html.select_one(\"tr\")\n",
    "__player_info_list = __player_info.select(\"td\")\n",
    "\n"
   ]
  },
  {
   "cell_type": "markdown",
   "metadata": {},
   "source": [
    "### 各選手のデータを抜き出す"
   ]
  },
  {
   "cell_type": "code",
   "execution_count": 14,
   "metadata": {},
   "outputs": [],
   "source": [
    "# 名前，登録番号などの欄は3番目\n",
    "player_name_list = __player_info_list[2].select(\"div\")\n",
    "assert len(player_name_list) == 3, \\\n",
    "    f'elements of player name info is not 3: {len(player_name_list)}'\n",
    "# list 登録番号・級，名前，出身・年齢，体重\n",
    "player_no_level, name, place_age_weight = \\\n",
    "    list(map(lambda elements: elements.text, player_name_list))"
   ]
  },
  {
   "cell_type": "code",
   "execution_count": 45,
   "metadata": {},
   "outputs": [
    {
     "data": {
      "text/plain": [
       "'鈴木裕隆'"
      ]
     },
     "execution_count": 45,
     "metadata": {},
     "output_type": "execute_result"
    }
   ],
   "source": [
    "name.replace('\\n','').replace('\\u3000', '')"
   ]
  },
  {
   "cell_type": "code",
   "execution_count": 23,
   "metadata": {},
   "outputs": [],
   "source": [
    "player_id, player_level = player_no_level.replace('\\r', '')\\\n",
    "                                         .replace('\\n', '')\\\n",
    "                                         .replace(' ', '')\\\n",
    "                                         .split('/')"
   ]
  },
  {
   "cell_type": "code",
   "execution_count": 24,
   "metadata": {},
   "outputs": [],
   "source": [
    "player_id = int(player_id)"
   ]
  },
  {
   "cell_type": "code",
   "execution_count": 15,
   "metadata": {},
   "outputs": [],
   "source": [
    "place, age_weight = place_age_weight.replace(' ', '')\\\n",
    "                                    .replace('\\r', '')\\\n",
    "                                    .split('\\n')[1:-1]"
   ]
  },
  {
   "cell_type": "markdown",
   "metadata": {},
   "source": [
    "### 各選手の勝率などを抜き出す"
   ]
  },
  {
   "cell_type": "code",
   "execution_count": 25,
   "metadata": {},
   "outputs": [],
   "source": [
    "# F/L/ST平均は4番目\n",
    "flst = __player_info_list[3]\n",
    "flst_list = flst.text.replace(' ', '').split('\\r\\n')[1:-1]\n",
    "assert len(flst_list) == 3, f\"lengh is not 3:{len(flst_list)}\""
   ]
  },
  {
   "cell_type": "code",
   "execution_count": 19,
   "metadata": {},
   "outputs": [],
   "source": [
    "# 全国勝率・連対率は5番目\n",
    "__all_123_rate = __player_info_list[4]\n",
    "__all_123_list = __all_123_rate.text.replace(' ', '').split('\\r\\n')[1:-1]\n",
    "assert len(__all_123_list) == 3, f\"lengh is not 3:{len(__all_123_list)}\""
   ]
  },
  {
   "cell_type": "code",
   "execution_count": 13,
   "metadata": {},
   "outputs": [],
   "source": [
    "all_1rate, all_2rate, all_3rate = list(map(lambda x: float(x), __all_123_list))"
   ]
  },
  {
   "cell_type": "code",
   "execution_count": 14,
   "metadata": {},
   "outputs": [
    {
     "data": {
      "text/plain": [
       "4.81"
      ]
     },
     "execution_count": 14,
     "metadata": {},
     "output_type": "execute_result"
    }
   ],
   "source": [
    "all_1rate"
   ]
  },
  {
   "cell_type": "code",
   "execution_count": 15,
   "metadata": {},
   "outputs": [],
   "source": [
    "# 当地勝率・連対率は6番目\n",
    "__local_123_rate = __player_info_list[5]\n",
    "__local_123_list = __local_123_rate.text.replace(' ', '')\\\n",
    "                                        .split('\\r\\n')[1:-1]\n",
    "local_1rate, local_2rate, local_3rate = \\\n",
    "    list(map(lambda x: float(x), __local_123_list))"
   ]
  },
  {
   "cell_type": "code",
   "execution_count": 18,
   "metadata": {},
   "outputs": [
    {
     "data": {
      "text/plain": [
       "60.0"
      ]
     },
     "execution_count": 18,
     "metadata": {},
     "output_type": "execute_result"
    }
   ],
   "source": [
    "# 当地勝率・連対率は6番目\n",
    "__local_123_rate = __player_info_list[5]\n",
    "__local_123_list = __local_123_rate.text.replace(' ', '')\\\n",
    "                                        .split('\\r\\n')[1:-1]\n",
    "local_1rate, local_2rate, local_3rate = \\\n",
    "    list(map(lambda x: float(x), __local_123_list))"
   ]
  },
  {
   "cell_type": "code",
   "execution_count": 20,
   "metadata": {},
   "outputs": [
    {
     "data": {
      "text/plain": [
       "bs4.element.Tag"
      ]
     },
     "execution_count": 20,
     "metadata": {},
     "output_type": "execute_result"
    }
   ],
   "source": [
    "type(__local_123_rate)"
   ]
  },
  {
   "cell_type": "code",
   "execution_count": 21,
   "metadata": {},
   "outputs": [],
   "source": [
    "import getdata"
   ]
  },
  {
   "cell_type": "code",
   "execution_count": 24,
   "metadata": {},
   "outputs": [],
   "source": [
    "op = getdata.OfficialProgram('http://boatrace.jp/owpc/pc/race/racelist?rno=3&jcd=06&hd=20200408')\n",
    "data = []\n",
    "for i in range(1,7):\n",
    "    data.append(op.getplayerinfo2dict(row=i))"
   ]
  },
  {
   "cell_type": "code",
   "execution_count": 34,
   "metadata": {},
   "outputs": [
    {
     "data": {
      "text/plain": [
       "{'name': '鈴木裕隆',\n",
       " 'id': 4231,\n",
       " 'level': 'B1',\n",
       " 'home': '愛知',\n",
       " 'birth_place': '愛知',\n",
       " 'age': 36,\n",
       " 'weight': 57.0,\n",
       " 'num_F': 0,\n",
       " 'num_L': 0,\n",
       " 'avg_ST': 0.21,\n",
       " 'all_1rate': 4.81,\n",
       " 'all_2rate': 29.47,\n",
       " 'all_3rate': 46.32,\n",
       " 'local_1rate': 5.0,\n",
       " 'local_2rate': 33.33,\n",
       " 'local_3rate': 60.0,\n",
       " 'motor_no': 23,\n",
       " 'motor_2rate': 54.66,\n",
       " 'motor_3rate': 72.46,\n",
       " 'boat_no': 34,\n",
       " 'boat_2rate': 15.05,\n",
       " 'boat_3rate': 33.33}"
      ]
     },
     "execution_count": 34,
     "metadata": {},
     "output_type": "execute_result"
    }
   ],
   "source": [
    "data[0]"
   ]
  },
  {
   "cell_type": "code",
   "execution_count": null,
   "metadata": {},
   "outputs": [],
   "source": []
  }
 ],
 "metadata": {
  "kernelspec": {
   "display_name": "Python 3",
   "language": "python",
   "name": "python3"
  },
  "language_info": {
   "codemirror_mode": {
    "name": "ipython",
    "version": 3
   },
   "file_extension": ".py",
   "mimetype": "text/x-python",
   "name": "python",
   "nbconvert_exporter": "python",
   "pygments_lexer": "ipython3",
   "version": "3.7.5"
  }
 },
 "nbformat": 4,
 "nbformat_minor": 4
}
