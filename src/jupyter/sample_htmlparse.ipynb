{
 "cells": [
  {
   "cell_type": "markdown",
   "metadata": {},
   "source": [
    "# サンプル 浜名湖4月8日３R"
   ]
  },
  {
   "cell_type": "code",
   "execution_count": 5,
   "metadata": {},
   "outputs": [],
   "source": [
    "sample_html = 'http://boatrace.jp/owpc/pc/race/racelist?rno=3&jcd=06&hd=20200408'"
   ]
  },
  {
   "cell_type": "code",
   "execution_count": 7,
   "metadata": {},
   "outputs": [],
   "source": [
    "from urllib.request import urlopen\n",
    "from bs4 import BeautifulSoup"
   ]
  },
  {
   "cell_type": "markdown",
   "metadata": {},
   "source": [
    "## htmlをsoupに取り込み，番組表から各選手のリストを抜く"
   ]
  },
  {
   "cell_type": "code",
   "execution_count": 8,
   "metadata": {},
   "outputs": [],
   "source": [
    "target_html = sample_html\n",
    "html_content = urlopen(target_html).read()\n",
    "soup = BeautifulSoup(html_content, 'html.parser')"
   ]
  },
  {
   "cell_type": "code",
   "execution_count": 30,
   "metadata": {},
   "outputs": [],
   "source": [
    "# 番組表を選択 css selectorより\n",
    "target_table_selector = 'body > main > div > div > div > div.contentsFrame1_inner > div.table1.is-tableFixed__3rdadd > table'\n",
    "target_table_html = soup.select_one(target_table_selector)\n",
    "# 各選手の行を選択 -> list\n",
    "player_info_html_list = target_table_html.select('tbody')\n",
    "assert len(player_info_html_list) == 6, f\"lengh player_info_html_list is not 6 :{len(player_info_html_list)}\""
   ]
  },
  {
   "cell_type": "markdown",
   "metadata": {},
   "source": [
    "### 各選手のデータを抜き出す"
   ]
  },
  {
   "cell_type": "code",
   "execution_count": 36,
   "metadata": {},
   "outputs": [],
   "source": [
    "player_html = player_info_html_list[0]"
   ]
  },
  {
   "cell_type": "code",
   "execution_count": 37,
   "metadata": {},
   "outputs": [],
   "source": [
    "assert len(player_html.select(\"tr\")) == 4, f'row of player detail is not 4: {len(player_html.select(\"tr\"))}'"
   ]
  },
  {
   "cell_type": "code",
   "execution_count": null,
   "metadata": {},
   "outputs": [],
   "source": []
  }
 ],
 "metadata": {
  "kernelspec": {
   "display_name": "Python 3",
   "language": "python",
   "name": "python3"
  },
  "language_info": {
   "codemirror_mode": {
    "name": "ipython",
    "version": 3
   },
   "file_extension": ".py",
   "mimetype": "text/x-python",
   "name": "python",
   "nbconvert_exporter": "python",
   "pygments_lexer": "ipython3",
   "version": "3.7.5"
  }
 },
 "nbformat": 4,
 "nbformat_minor": 4
}
